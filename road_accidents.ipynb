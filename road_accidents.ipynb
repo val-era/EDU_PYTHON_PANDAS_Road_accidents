{
 "cells": [
  {
   "cell_type": "markdown",
   "metadata": {
    "deletable": false,
    "editable": false,
    "id": "t00fl5UqGwCy",
    "tags": [
     "1e3c4ba5-e41c-441c-b80d-91af102cc6cd"
    ]
   },
   "source": [
    "\n",
    "# Кейс спринта\n",
    "\n",
    "\n",
    "Заказчик проекта — «Карта ДТП». Это некоммерческий проект, посвящённый проблеме дорожно-транспортных происшествий в России. Цель проекта — повысить безопасность на дорогах.\n",
    "\n",
    "«Карта ДТП» помогает выявлять реальные причины ДТП, оценивать уровень развития инфраструктуры, а также разрабатывать качественные решения и программы по повышению безопасности на улицах и дорогах. Заказчик хочет собирать данные более высокого качества и ожидает от вас рекомендаций: на какие проблемы или особенности обратить внимание.\n",
    "\n",
    "## Что нужно сделать\n",
    "\n",
    "Вам необходимо проверить, встречаются ли в данных дубликаты и пропуски. Это поможет заказчикам собирать более качественные данные.\n",
    "\n",
    "Вам также понадобится ответить на следующие вопросы:\n",
    "\n",
    "- как менялось число ДТП по временным промежуткам;\n",
    "\n",
    "- различается ли число ДТП для групп водителей с разным стажем.\n",
    "\n",
    "\n",
    "## Описание данных\n",
    "\n",
    "Данные `Kirovskaya_oblast.csv`, `Moscowskaya_oblast.csv` содержат информацию ДТП:\n",
    "\n",
    "* `geometry.coordinates` — координаты ДТП;\n",
    "\n",
    "* `id` — идентификатор ДТП;\n",
    "\n",
    "*  `properties.tags` — тег происшествия;\n",
    "\n",
    "*  `properties.light` — освещённость;\n",
    "\n",
    "*  `properties.point.lat` — широта;\n",
    "\n",
    "*  `properties.point.long` — долгота;\n",
    "\n",
    "*  `properties.nearby` — ближайшие объекты;\n",
    "\n",
    "*  `properties.region` — регион;\n",
    "\n",
    "*  `properties.scheme` — схема ДТП;\n",
    "\n",
    "*  `properties.address` — ближайший адрес;\n",
    "\n",
    "*  `properties.weather` — погода;\n",
    "\n",
    "*  `properties.category` — категория ДТП;\n",
    "\n",
    "*  `properties.datetime` — дата и время ДТП;\n",
    "\n",
    "*  `properties.injured_count` — число пострадавших;\n",
    "\n",
    "*  `properties.parent_region` — область;\n",
    "\n",
    "*  `properties.road_conditions` — состояние покрытия;\n",
    "\n",
    "*  `properties.participants_count` — число участников;\n",
    "\n",
    "*  `properties.participant_categories` — категории участников.\n",
    "\n",
    "`Moscowskaya_oblast_participiants.csv`, `Kirovskaya_oblast_participiants.csv` — сведения об участниках ДТП:\n",
    "\n",
    "* `role` — роль;\n",
    "\n",
    "* `gender` — пол;\n",
    "\n",
    "* `violations` — какие правила дорожного движения были нарушены конкретным участником;\n",
    "\n",
    "* `health_status` — состояние здоровья после  ДТП;\n",
    "\n",
    "* `years_of_driving_experience` — число лет опыта;\n",
    "\n",
    "* `id` — идентификатор ДТП.\n",
    "\n",
    "\n",
    "`Kirovskaya_oblast_vehicles.csv`, `Moscowskaya_oblast_vehicles.csv` — сведения о транспортных средствах:\n",
    "\n",
    "* `year` — год выпуска;\n",
    "\n",
    "* `brand` — марка транспортного средства;\n",
    "\n",
    "* `color` — цвет;\n",
    "\n",
    "* `model` — модель;\n",
    "\n",
    "* `category` — категория;\n",
    "\n",
    "* `id` — идентификатор ДТП."
   ]
  },
  {
   "cell_type": "markdown",
   "metadata": {
    "id": "igXM2EUwJQeu"
   },
   "source": [
    "# Проверка ошибок в данных и их предобработка\n",
    "\n"
   ]
  },
  {
   "cell_type": "code",
   "execution_count": 1,
   "metadata": {},
   "outputs": [],
   "source": [
    "# Устанавливаем библиотеку для работы с пропусками\n",
    "!pip install missingno -q"
   ]
  },
  {
   "cell_type": "code",
   "execution_count": 2,
   "metadata": {},
   "outputs": [],
   "source": [
    "# Импортируем библиотеку pandas\n",
    "import pandas as pd\n",
    "# Импортируем библиотеку для визуализации пропусков\n",
    "import missingno as msno"
   ]
  },
  {
   "cell_type": "code",
   "execution_count": 3,
   "metadata": {},
   "outputs": [],
   "source": [
    "# Загружаем необходимые датафреймы\n",
    "\n",
    "kirov_df = pd.read_csv('https://code.s3.yandex.net/datasets/Kirovskaya_oblast.csv')\n",
    "moscow_df = pd.read_csv('https://code.s3.yandex.net/datasets/Moscowskaya_oblast.csv')\n",
    "kirov_partic_df = pd.read_csv('https://code.s3.yandex.net/datasets/Kirovskaya_oblast_participiants.csv')\n",
    "moscow_partic_df = pd.read_csv('https://code.s3.yandex.net/datasets/Moscowskaya_oblast_participiants.csv')\n",
    "kirov_vehic_df = pd.read_csv('https://code.s3.yandex.net/datasets/Kirovskaya_oblast_vehicles.csv')\n",
    "moscow_vehic_df = pd.read_csv('https://code.s3.yandex.net/datasets/Moscowskaya_oblast_vehicles.csv')"
   ]
  },
  {
   "cell_type": "markdown",
   "metadata": {},
   "source": [
    "Датафреймы загружены, проведем их анализ"
   ]
  },
  {
   "cell_type": "markdown",
   "metadata": {},
   "source": [
    "#### Общий обзор  датафреймов `Kirovskaya_oblast.csv`, `Moscowskaya_oblast.csv`\n",
    "\n",
    "----"
   ]
  },
  {
   "cell_type": "code",
   "execution_count": 4,
   "metadata": {},
   "outputs": [
    {
     "name": "stdout",
     "output_type": "stream",
     "text": [
      "<class 'pandas.core.frame.DataFrame'>\n",
      "RangeIndex: 14517 entries, 0 to 14516\n",
      "Data columns (total 18 columns):\n",
      " #   Column                             Non-Null Count  Dtype  \n",
      "---  ------                             --------------  -----  \n",
      " 0   geometry.coordinates               14517 non-null  object \n",
      " 1   id                                 14517 non-null  int64  \n",
      " 2   properties.tags                    14517 non-null  object \n",
      " 3   properties.light                   14517 non-null  object \n",
      " 4   properties.point.lat               14485 non-null  float64\n",
      " 5   properties.point.long              14485 non-null  float64\n",
      " 6   properties.nearby                  14517 non-null  object \n",
      " 7   properties.region                  14517 non-null  object \n",
      " 8   properties.scheme                  13380 non-null  float64\n",
      " 9   properties.address                 13843 non-null  object \n",
      " 10  properties.weather                 14517 non-null  object \n",
      " 11  properties.category                14517 non-null  object \n",
      " 12  properties.datetime                14517 non-null  object \n",
      " 13  properties.injured_count           14517 non-null  int64  \n",
      " 14  properties.parent_region           14517 non-null  object \n",
      " 15  properties.road_conditions         14517 non-null  object \n",
      " 16  properties.participants_count      14517 non-null  int64  \n",
      " 17  properties.participant_categories  14517 non-null  object \n",
      "dtypes: float64(3), int64(3), object(12)\n",
      "memory usage: 2.0+ MB\n"
     ]
    }
   ],
   "source": [
    "# Выгрузи информацию о датафрейме\n",
    "kirov_df.info()"
   ]
  },
  {
   "cell_type": "code",
   "execution_count": 5,
   "metadata": {
    "scrolled": false
   },
   "outputs": [
    {
     "data": {
      "text/html": [
       "<div>\n",
       "<style scoped>\n",
       "    .dataframe tbody tr th:only-of-type {\n",
       "        vertical-align: middle;\n",
       "    }\n",
       "\n",
       "    .dataframe tbody tr th {\n",
       "        vertical-align: top;\n",
       "    }\n",
       "\n",
       "    .dataframe thead th {\n",
       "        text-align: right;\n",
       "    }\n",
       "</style>\n",
       "<table border=\"1\" class=\"dataframe\">\n",
       "  <thead>\n",
       "    <tr style=\"text-align: right;\">\n",
       "      <th></th>\n",
       "      <th>geometry.coordinates</th>\n",
       "      <th>id</th>\n",
       "      <th>properties.tags</th>\n",
       "      <th>properties.light</th>\n",
       "      <th>properties.point.lat</th>\n",
       "      <th>properties.point.long</th>\n",
       "      <th>properties.nearby</th>\n",
       "      <th>properties.region</th>\n",
       "      <th>properties.scheme</th>\n",
       "      <th>properties.address</th>\n",
       "      <th>properties.weather</th>\n",
       "      <th>properties.category</th>\n",
       "      <th>properties.datetime</th>\n",
       "      <th>properties.injured_count</th>\n",
       "      <th>properties.parent_region</th>\n",
       "      <th>properties.road_conditions</th>\n",
       "      <th>properties.participants_count</th>\n",
       "      <th>properties.participant_categories</th>\n",
       "    </tr>\n",
       "  </thead>\n",
       "  <tbody>\n",
       "    <tr>\n",
       "      <th>0</th>\n",
       "      <td>[47.875603, 57.24379]</td>\n",
       "      <td>1983180</td>\n",
       "      <td>Дорожно-транспортные происшествия</td>\n",
       "      <td>Светлое время суток</td>\n",
       "      <td>57.243790</td>\n",
       "      <td>47.875603</td>\n",
       "      <td>[]</td>\n",
       "      <td>Яранский район</td>\n",
       "      <td>600.0</td>\n",
       "      <td>Р-176 Вятка Чебоксары - Йошкар-Ола - Киров - С...</td>\n",
       "      <td>['Дождь']</td>\n",
       "      <td>Опрокидывание</td>\n",
       "      <td>2017-07-01 18:00:00</td>\n",
       "      <td>1</td>\n",
       "      <td>Кировская область</td>\n",
       "      <td>['Мокрое']</td>\n",
       "      <td>3</td>\n",
       "      <td>['Все участники']</td>\n",
       "    </tr>\n",
       "    <tr>\n",
       "      <th>1</th>\n",
       "      <td>[47.87903, 57.304807]</td>\n",
       "      <td>2889433</td>\n",
       "      <td>Дорожно-транспортные происшествия</td>\n",
       "      <td>Светлое время суток</td>\n",
       "      <td>57.304807</td>\n",
       "      <td>47.879030</td>\n",
       "      <td>['Административные здания', 'Нерегулируемый пе...</td>\n",
       "      <td>Яранский район</td>\n",
       "      <td>710.0</td>\n",
       "      <td>г Яранск, ул Кирова, 10</td>\n",
       "      <td>['Ясно']</td>\n",
       "      <td>Наезд на пешехода</td>\n",
       "      <td>2023-09-12 17:10:00</td>\n",
       "      <td>1</td>\n",
       "      <td>Кировская область</td>\n",
       "      <td>['Сухое', 'Отсутствие, плохая различимость гор...</td>\n",
       "      <td>2</td>\n",
       "      <td>['Все участники', 'Пешеходы']</td>\n",
       "    </tr>\n",
       "    <tr>\n",
       "      <th>2</th>\n",
       "      <td>[47.840781, 57.297156]</td>\n",
       "      <td>2591208</td>\n",
       "      <td>Дорожно-транспортные происшествия</td>\n",
       "      <td>Сумерки</td>\n",
       "      <td>57.297156</td>\n",
       "      <td>47.840781</td>\n",
       "      <td>['Жилые дома индивидуальной застройки', 'Нерег...</td>\n",
       "      <td>Яранский район</td>\n",
       "      <td>NaN</td>\n",
       "      <td>г Яранск, ул Чапаева, 80</td>\n",
       "      <td>['Пасмурно']</td>\n",
       "      <td>Съезд с дороги</td>\n",
       "      <td>2021-07-02 21:25:00</td>\n",
       "      <td>1</td>\n",
       "      <td>Кировская область</td>\n",
       "      <td>['Мокрое']</td>\n",
       "      <td>1</td>\n",
       "      <td>['Все участники']</td>\n",
       "    </tr>\n",
       "    <tr>\n",
       "      <th>3</th>\n",
       "      <td>[47.834365, 57.244775]</td>\n",
       "      <td>2577639</td>\n",
       "      <td>Дорожно-транспортные происшествия</td>\n",
       "      <td>Светлое время суток</td>\n",
       "      <td>57.244775</td>\n",
       "      <td>47.834365</td>\n",
       "      <td>['Жилые дома индивидуальной застройки']</td>\n",
       "      <td>Яранский район</td>\n",
       "      <td>200.0</td>\n",
       "      <td>м Знаменка, ул Кирова, 15</td>\n",
       "      <td>['Пасмурно']</td>\n",
       "      <td>Столкновение</td>\n",
       "      <td>2021-05-31 18:55:00</td>\n",
       "      <td>1</td>\n",
       "      <td>Кировская область</td>\n",
       "      <td>['Сухое']</td>\n",
       "      <td>2</td>\n",
       "      <td>['Все участники', 'Мотоциклисты']</td>\n",
       "    </tr>\n",
       "    <tr>\n",
       "      <th>4</th>\n",
       "      <td>[47.968197, 57.357738]</td>\n",
       "      <td>1981026</td>\n",
       "      <td>Дорожно-транспортные происшествия</td>\n",
       "      <td>Светлое время суток</td>\n",
       "      <td>57.357738</td>\n",
       "      <td>47.968197</td>\n",
       "      <td>['Нерегулируемый перекрёсток неравнозначных ул...</td>\n",
       "      <td>Яранский район</td>\n",
       "      <td>NaN</td>\n",
       "      <td>с/п Никольское, Киров-Советск- Яранск - подъез...</td>\n",
       "      <td>['Ясно']</td>\n",
       "      <td>Опрокидывание</td>\n",
       "      <td>2018-05-16 16:25:00</td>\n",
       "      <td>2</td>\n",
       "      <td>Кировская область</td>\n",
       "      <td>['Сухое', 'Отсутствие, плохая различимость гор...</td>\n",
       "      <td>2</td>\n",
       "      <td>['Все участники']</td>\n",
       "    </tr>\n",
       "  </tbody>\n",
       "</table>\n",
       "</div>"
      ],
      "text/plain": [
       "     geometry.coordinates       id                    properties.tags  \\\n",
       "0   [47.875603, 57.24379]  1983180  Дорожно-транспортные происшествия   \n",
       "1   [47.87903, 57.304807]  2889433  Дорожно-транспортные происшествия   \n",
       "2  [47.840781, 57.297156]  2591208  Дорожно-транспортные происшествия   \n",
       "3  [47.834365, 57.244775]  2577639  Дорожно-транспортные происшествия   \n",
       "4  [47.968197, 57.357738]  1981026  Дорожно-транспортные происшествия   \n",
       "\n",
       "      properties.light  properties.point.lat  properties.point.long  \\\n",
       "0  Светлое время суток             57.243790              47.875603   \n",
       "1  Светлое время суток             57.304807              47.879030   \n",
       "2              Сумерки             57.297156              47.840781   \n",
       "3  Светлое время суток             57.244775              47.834365   \n",
       "4  Светлое время суток             57.357738              47.968197   \n",
       "\n",
       "                                   properties.nearby properties.region  \\\n",
       "0                                                 []    Яранский район   \n",
       "1  ['Административные здания', 'Нерегулируемый пе...    Яранский район   \n",
       "2  ['Жилые дома индивидуальной застройки', 'Нерег...    Яранский район   \n",
       "3            ['Жилые дома индивидуальной застройки']    Яранский район   \n",
       "4  ['Нерегулируемый перекрёсток неравнозначных ул...    Яранский район   \n",
       "\n",
       "   properties.scheme                                 properties.address  \\\n",
       "0              600.0  Р-176 Вятка Чебоксары - Йошкар-Ола - Киров - С...   \n",
       "1              710.0                            г Яранск, ул Кирова, 10   \n",
       "2                NaN                           г Яранск, ул Чапаева, 80   \n",
       "3              200.0                          м Знаменка, ул Кирова, 15   \n",
       "4                NaN  с/п Никольское, Киров-Советск- Яранск - подъез...   \n",
       "\n",
       "  properties.weather properties.category  properties.datetime  \\\n",
       "0          ['Дождь']       Опрокидывание  2017-07-01 18:00:00   \n",
       "1           ['Ясно']   Наезд на пешехода  2023-09-12 17:10:00   \n",
       "2       ['Пасмурно']      Съезд с дороги  2021-07-02 21:25:00   \n",
       "3       ['Пасмурно']        Столкновение  2021-05-31 18:55:00   \n",
       "4           ['Ясно']       Опрокидывание  2018-05-16 16:25:00   \n",
       "\n",
       "   properties.injured_count properties.parent_region  \\\n",
       "0                         1        Кировская область   \n",
       "1                         1        Кировская область   \n",
       "2                         1        Кировская область   \n",
       "3                         1        Кировская область   \n",
       "4                         2        Кировская область   \n",
       "\n",
       "                          properties.road_conditions  \\\n",
       "0                                         ['Мокрое']   \n",
       "1  ['Сухое', 'Отсутствие, плохая различимость гор...   \n",
       "2                                         ['Мокрое']   \n",
       "3                                          ['Сухое']   \n",
       "4  ['Сухое', 'Отсутствие, плохая различимость гор...   \n",
       "\n",
       "   properties.participants_count  properties.participant_categories  \n",
       "0                              3                  ['Все участники']  \n",
       "1                              2      ['Все участники', 'Пешеходы']  \n",
       "2                              1                  ['Все участники']  \n",
       "3                              2  ['Все участники', 'Мотоциклисты']  \n",
       "4                              2                  ['Все участники']  "
      ]
     },
     "execution_count": 5,
     "metadata": {},
     "output_type": "execute_result"
    }
   ],
   "source": [
    "kirov_df.head()"
   ]
  },
  {
   "cell_type": "markdown",
   "metadata": {},
   "source": [
    "* В датафрейме `Kirovskaya_oblast.csv` содержится 14 517 строк и 18 колонок. Тип данных для колонок распределен следующим образом - `float64` - 3, `int64` - 3, `object` - 12\n",
    "* Для колонок `properties.tags`, `properties.light`, `properties.region`, `properties.category`, `properties.parent_region `автоматически применился тип `object`. Для оптимизации ресурсов можно преобразовать эти колонки в тип `category`.\n",
    "* Для колонки `properties.datetime` применился тип `object`. Для вычислений с временными интервалами необходимо **произвести преобразование в `datetime64`**\n",
    "* Для остальных колонок тип данных применился корректно\n",
    "\n",
    "* Колонки `properties.point.lat`, `properties.point.long`, `properties.scheme`, `properties.address` содержат NaN значения"
   ]
  },
  {
   "cell_type": "code",
   "execution_count": 6,
   "metadata": {},
   "outputs": [
    {
     "name": "stdout",
     "output_type": "stream",
     "text": [
      "<class 'pandas.core.frame.DataFrame'>\n",
      "RangeIndex: 45618 entries, 0 to 45617\n",
      "Data columns (total 18 columns):\n",
      " #   Column                             Non-Null Count  Dtype  \n",
      "---  ------                             --------------  -----  \n",
      " 0   geometry.coordinates               45618 non-null  object \n",
      " 1   id                                 45618 non-null  int64  \n",
      " 2   properties.tags                    45618 non-null  object \n",
      " 3   properties.light                   45618 non-null  object \n",
      " 4   properties.point.lat               45615 non-null  float64\n",
      " 5   properties.point.long              45615 non-null  float64\n",
      " 6   properties.nearby                  45618 non-null  object \n",
      " 7   properties.region                  45618 non-null  object \n",
      " 8   properties.scheme                  44235 non-null  float64\n",
      " 9   properties.address                 43862 non-null  object \n",
      " 10  properties.weather                 45618 non-null  object \n",
      " 11  properties.category                45618 non-null  object \n",
      " 12  properties.datetime                45618 non-null  object \n",
      " 13  properties.injured_count           45618 non-null  int64  \n",
      " 14  properties.parent_region           45618 non-null  object \n",
      " 15  properties.road_conditions         45618 non-null  object \n",
      " 16  properties.participants_count      45618 non-null  int64  \n",
      " 17  properties.participant_categories  45618 non-null  object \n",
      "dtypes: float64(3), int64(3), object(12)\n",
      "memory usage: 6.3+ MB\n"
     ]
    }
   ],
   "source": [
    "moscow_df.info()"
   ]
  },
  {
   "cell_type": "code",
   "execution_count": 7,
   "metadata": {},
   "outputs": [
    {
     "data": {
      "text/html": [
       "<div>\n",
       "<style scoped>\n",
       "    .dataframe tbody tr th:only-of-type {\n",
       "        vertical-align: middle;\n",
       "    }\n",
       "\n",
       "    .dataframe tbody tr th {\n",
       "        vertical-align: top;\n",
       "    }\n",
       "\n",
       "    .dataframe thead th {\n",
       "        text-align: right;\n",
       "    }\n",
       "</style>\n",
       "<table border=\"1\" class=\"dataframe\">\n",
       "  <thead>\n",
       "    <tr style=\"text-align: right;\">\n",
       "      <th></th>\n",
       "      <th>geometry.coordinates</th>\n",
       "      <th>id</th>\n",
       "      <th>properties.tags</th>\n",
       "      <th>properties.light</th>\n",
       "      <th>properties.point.lat</th>\n",
       "      <th>properties.point.long</th>\n",
       "      <th>properties.nearby</th>\n",
       "      <th>properties.region</th>\n",
       "      <th>properties.scheme</th>\n",
       "      <th>properties.address</th>\n",
       "      <th>properties.weather</th>\n",
       "      <th>properties.category</th>\n",
       "      <th>properties.datetime</th>\n",
       "      <th>properties.injured_count</th>\n",
       "      <th>properties.parent_region</th>\n",
       "      <th>properties.road_conditions</th>\n",
       "      <th>properties.participants_count</th>\n",
       "      <th>properties.participant_categories</th>\n",
       "    </tr>\n",
       "  </thead>\n",
       "  <tbody>\n",
       "    <tr>\n",
       "      <th>0</th>\n",
       "      <td>[37.5253, 55.9992]</td>\n",
       "      <td>2163589</td>\n",
       "      <td>['Дорожно-транспортные происшествия']</td>\n",
       "      <td>Светлое время суток</td>\n",
       "      <td>55.999200</td>\n",
       "      <td>37.525300</td>\n",
       "      <td>['Мост, эстакада, путепровод', 'Крупный торгов...</td>\n",
       "      <td>Мытищинский</td>\n",
       "      <td>NaN</td>\n",
       "      <td>ХЛЕБНИКОВО-РОГАЧЕВО, 0 км</td>\n",
       "      <td>['Ясно']</td>\n",
       "      <td>Столкновение</td>\n",
       "      <td>2019-01-31 09:05:00</td>\n",
       "      <td>1</td>\n",
       "      <td>Московская область</td>\n",
       "      <td>['Мокрое', 'Отсутствие, плохая различимость го...</td>\n",
       "      <td>3</td>\n",
       "      <td>['Все участники']</td>\n",
       "    </tr>\n",
       "    <tr>\n",
       "      <th>1</th>\n",
       "      <td>[37.058966, 55.788688]</td>\n",
       "      <td>2155398</td>\n",
       "      <td>['Дорожно-транспортные происшествия', 'ДТП и п...</td>\n",
       "      <td>В темное время суток, освещение включено</td>\n",
       "      <td>55.788688</td>\n",
       "      <td>37.058966</td>\n",
       "      <td>[]</td>\n",
       "      <td>Истринский</td>\n",
       "      <td>70.0</td>\n",
       "      <td>М-9 Балтия Москва - Волоколамск - граница с Ла...</td>\n",
       "      <td>['Ясно']</td>\n",
       "      <td>Столкновение</td>\n",
       "      <td>2018-09-22 05:00:00</td>\n",
       "      <td>2</td>\n",
       "      <td>Московская область</td>\n",
       "      <td>['Сухое']</td>\n",
       "      <td>4</td>\n",
       "      <td>['Все участники', 'Дети']</td>\n",
       "    </tr>\n",
       "    <tr>\n",
       "      <th>2</th>\n",
       "      <td>[37.4419, 56.0081]</td>\n",
       "      <td>2163319</td>\n",
       "      <td>['Дорожно-транспортные происшествия']</td>\n",
       "      <td>В темное время суток, освещение включено</td>\n",
       "      <td>56.008100</td>\n",
       "      <td>37.441900</td>\n",
       "      <td>['Многоквартирные жилые дома', 'Остановка обще...</td>\n",
       "      <td>Лобня</td>\n",
       "      <td>820.0</td>\n",
       "      <td>г Лобня, ул Ленина, 43</td>\n",
       "      <td>['Пасмурно']</td>\n",
       "      <td>Наезд на пешехода</td>\n",
       "      <td>2019-01-24 19:30:00</td>\n",
       "      <td>1</td>\n",
       "      <td>Московская область</td>\n",
       "      <td>['Обработанное противогололедными материалами']</td>\n",
       "      <td>2</td>\n",
       "      <td>['Все участники', 'Пешеходы']</td>\n",
       "    </tr>\n",
       "  </tbody>\n",
       "</table>\n",
       "</div>"
      ],
      "text/plain": [
       "     geometry.coordinates       id  \\\n",
       "0      [37.5253, 55.9992]  2163589   \n",
       "1  [37.058966, 55.788688]  2155398   \n",
       "2      [37.4419, 56.0081]  2163319   \n",
       "\n",
       "                                     properties.tags  \\\n",
       "0              ['Дорожно-транспортные происшествия']   \n",
       "1  ['Дорожно-транспортные происшествия', 'ДТП и п...   \n",
       "2              ['Дорожно-транспортные происшествия']   \n",
       "\n",
       "                           properties.light  properties.point.lat  \\\n",
       "0                       Светлое время суток             55.999200   \n",
       "1  В темное время суток, освещение включено             55.788688   \n",
       "2  В темное время суток, освещение включено             56.008100   \n",
       "\n",
       "   properties.point.long                                  properties.nearby  \\\n",
       "0              37.525300  ['Мост, эстакада, путепровод', 'Крупный торгов...   \n",
       "1              37.058966                                                 []   \n",
       "2              37.441900  ['Многоквартирные жилые дома', 'Остановка обще...   \n",
       "\n",
       "  properties.region  properties.scheme  \\\n",
       "0       Мытищинский                NaN   \n",
       "1        Истринский               70.0   \n",
       "2             Лобня              820.0   \n",
       "\n",
       "                                  properties.address properties.weather  \\\n",
       "0                          ХЛЕБНИКОВО-РОГАЧЕВО, 0 км           ['Ясно']   \n",
       "1  М-9 Балтия Москва - Волоколамск - граница с Ла...           ['Ясно']   \n",
       "2                             г Лобня, ул Ленина, 43       ['Пасмурно']   \n",
       "\n",
       "  properties.category  properties.datetime  properties.injured_count  \\\n",
       "0        Столкновение  2019-01-31 09:05:00                         1   \n",
       "1        Столкновение  2018-09-22 05:00:00                         2   \n",
       "2   Наезд на пешехода  2019-01-24 19:30:00                         1   \n",
       "\n",
       "  properties.parent_region                         properties.road_conditions  \\\n",
       "0       Московская область  ['Мокрое', 'Отсутствие, плохая различимость го...   \n",
       "1       Московская область                                          ['Сухое']   \n",
       "2       Московская область    ['Обработанное противогололедными материалами']   \n",
       "\n",
       "   properties.participants_count properties.participant_categories  \n",
       "0                              3                 ['Все участники']  \n",
       "1                              4         ['Все участники', 'Дети']  \n",
       "2                              2     ['Все участники', 'Пешеходы']  "
      ]
     },
     "execution_count": 7,
     "metadata": {},
     "output_type": "execute_result"
    }
   ],
   "source": [
    "moscow_df.head(3)"
   ]
  },
  {
   "cell_type": "markdown",
   "metadata": {},
   "source": [
    "* В датафрейме `Moscowskaya_oblast.csv` содержится 45 628 строк и 18 колонок.\n",
    "* Все остальные выводы аналогичны датафрейму `Kirovskaya_oblast.csv`"
   ]
  },
  {
   "cell_type": "markdown",
   "metadata": {},
   "source": [
    "---"
   ]
  },
  {
   "cell_type": "markdown",
   "metadata": {},
   "source": [
    "#### Анализ датафреймов об участниках ДТП `Kirovskaya_oblast_participiants.csv`,  `Moscowskaya_oblast_participiants.csv`"
   ]
  },
  {
   "cell_type": "code",
   "execution_count": 8,
   "metadata": {},
   "outputs": [
    {
     "name": "stdout",
     "output_type": "stream",
     "text": [
      "<class 'pandas.core.frame.DataFrame'>\n",
      "RangeIndex: 31235 entries, 0 to 31234\n",
      "Data columns (total 6 columns):\n",
      " #   Column                       Non-Null Count  Dtype  \n",
      "---  ------                       --------------  -----  \n",
      " 0   role                         31235 non-null  object \n",
      " 1   gender                       30387 non-null  object \n",
      " 2   violations                   31235 non-null  object \n",
      " 3   health_status                31135 non-null  object \n",
      " 4   years_of_driving_experience  16909 non-null  float64\n",
      " 5   id                           31235 non-null  int64  \n",
      "dtypes: float64(1), int64(1), object(4)\n",
      "memory usage: 1.4+ MB\n"
     ]
    }
   ],
   "source": [
    "kirov_partic_df.info()"
   ]
  },
  {
   "cell_type": "code",
   "execution_count": 9,
   "metadata": {
    "scrolled": true
   },
   "outputs": [
    {
     "data": {
      "text/html": [
       "<div>\n",
       "<style scoped>\n",
       "    .dataframe tbody tr th:only-of-type {\n",
       "        vertical-align: middle;\n",
       "    }\n",
       "\n",
       "    .dataframe tbody tr th {\n",
       "        vertical-align: top;\n",
       "    }\n",
       "\n",
       "    .dataframe thead th {\n",
       "        text-align: right;\n",
       "    }\n",
       "</style>\n",
       "<table border=\"1\" class=\"dataframe\">\n",
       "  <thead>\n",
       "    <tr style=\"text-align: right;\">\n",
       "      <th></th>\n",
       "      <th>role</th>\n",
       "      <th>gender</th>\n",
       "      <th>violations</th>\n",
       "      <th>health_status</th>\n",
       "      <th>years_of_driving_experience</th>\n",
       "      <th>id</th>\n",
       "    </tr>\n",
       "  </thead>\n",
       "  <tbody>\n",
       "    <tr>\n",
       "      <th>0</th>\n",
       "      <td>Водитель</td>\n",
       "      <td>Мужской</td>\n",
       "      <td>['Несоответствие скорости конкретным условиям ...</td>\n",
       "      <td>Раненый, находящийся (находившийся) на амбулат...</td>\n",
       "      <td>26.0</td>\n",
       "      <td>1983180</td>\n",
       "    </tr>\n",
       "    <tr>\n",
       "      <th>1</th>\n",
       "      <td>Водитель</td>\n",
       "      <td>Мужской</td>\n",
       "      <td>[]</td>\n",
       "      <td>Не пострадал</td>\n",
       "      <td>34.0</td>\n",
       "      <td>2889433</td>\n",
       "    </tr>\n",
       "    <tr>\n",
       "      <th>2</th>\n",
       "      <td>Пассажир</td>\n",
       "      <td>Мужской</td>\n",
       "      <td>[]</td>\n",
       "      <td>Раненый, находящийся (находившийся)  на амбула...</td>\n",
       "      <td>NaN</td>\n",
       "      <td>2591208</td>\n",
       "    </tr>\n",
       "    <tr>\n",
       "      <th>3</th>\n",
       "      <td>Пассажир</td>\n",
       "      <td>Мужской</td>\n",
       "      <td>[]</td>\n",
       "      <td>Раненый, находящийся (находившийся)  на амбула...</td>\n",
       "      <td>NaN</td>\n",
       "      <td>2591208</td>\n",
       "    </tr>\n",
       "    <tr>\n",
       "      <th>4</th>\n",
       "      <td>Водитель</td>\n",
       "      <td>Мужской</td>\n",
       "      <td>[]</td>\n",
       "      <td>Не пострадал</td>\n",
       "      <td>27.0</td>\n",
       "      <td>2577639</td>\n",
       "    </tr>\n",
       "  </tbody>\n",
       "</table>\n",
       "</div>"
      ],
      "text/plain": [
       "       role   gender                                         violations  \\\n",
       "0  Водитель  Мужской  ['Несоответствие скорости конкретным условиям ...   \n",
       "1  Водитель  Мужской                                                 []   \n",
       "2  Пассажир  Мужской                                                 []   \n",
       "3  Пассажир  Мужской                                                 []   \n",
       "4  Водитель  Мужской                                                 []   \n",
       "\n",
       "                                       health_status  \\\n",
       "0  Раненый, находящийся (находившийся) на амбулат...   \n",
       "1                                       Не пострадал   \n",
       "2  Раненый, находящийся (находившийся)  на амбула...   \n",
       "3  Раненый, находящийся (находившийся)  на амбула...   \n",
       "4                                       Не пострадал   \n",
       "\n",
       "   years_of_driving_experience       id  \n",
       "0                         26.0  1983180  \n",
       "1                         34.0  2889433  \n",
       "2                          NaN  2591208  \n",
       "3                          NaN  2591208  \n",
       "4                         27.0  2577639  "
      ]
     },
     "execution_count": 9,
     "metadata": {},
     "output_type": "execute_result"
    }
   ],
   "source": [
    "kirov_partic_df.head()"
   ]
  },
  {
   "cell_type": "markdown",
   "metadata": {},
   "source": [
    "* Датафрейм `Kirovskaya_oblast_participiants.csv` содержит 31 235 строчек и 6 колонок. Распределение типов данных следующее float64 - 1, int64 - 1, object - 4.\n",
    "* Для `role` и `gender` применен тип `object`. Для оптимизации можно преобразовать в тип `category`\n",
    "* Для остальных колонок применен корректный тип данных\n",
    "* Колонки `gender`, `years_of_driving_experience` содержат пропуска"
   ]
  },
  {
   "cell_type": "code",
   "execution_count": 10,
   "metadata": {},
   "outputs": [
    {
     "name": "stdout",
     "output_type": "stream",
     "text": [
      "<class 'pandas.core.frame.DataFrame'>\n",
      "RangeIndex: 95177 entries, 0 to 95176\n",
      "Data columns (total 6 columns):\n",
      " #   Column                       Non-Null Count  Dtype  \n",
      "---  ------                       --------------  -----  \n",
      " 0   role                         95177 non-null  object \n",
      " 1   gender                       93307 non-null  object \n",
      " 2   violations                   95177 non-null  object \n",
      " 3   health_status                95070 non-null  object \n",
      " 4   years_of_driving_experience  59679 non-null  float64\n",
      " 5   id                           95177 non-null  int64  \n",
      "dtypes: float64(1), int64(1), object(4)\n",
      "memory usage: 4.4+ MB\n"
     ]
    }
   ],
   "source": [
    "moscow_partic_df.info()"
   ]
  },
  {
   "cell_type": "code",
   "execution_count": 11,
   "metadata": {},
   "outputs": [
    {
     "data": {
      "text/html": [
       "<div>\n",
       "<style scoped>\n",
       "    .dataframe tbody tr th:only-of-type {\n",
       "        vertical-align: middle;\n",
       "    }\n",
       "\n",
       "    .dataframe tbody tr th {\n",
       "        vertical-align: top;\n",
       "    }\n",
       "\n",
       "    .dataframe thead th {\n",
       "        text-align: right;\n",
       "    }\n",
       "</style>\n",
       "<table border=\"1\" class=\"dataframe\">\n",
       "  <thead>\n",
       "    <tr style=\"text-align: right;\">\n",
       "      <th></th>\n",
       "      <th>role</th>\n",
       "      <th>gender</th>\n",
       "      <th>violations</th>\n",
       "      <th>health_status</th>\n",
       "      <th>years_of_driving_experience</th>\n",
       "      <th>id</th>\n",
       "    </tr>\n",
       "  </thead>\n",
       "  <tbody>\n",
       "    <tr>\n",
       "      <th>0</th>\n",
       "      <td>Водитель</td>\n",
       "      <td>Мужской</td>\n",
       "      <td>[]</td>\n",
       "      <td>Не пострадал</td>\n",
       "      <td>13.0</td>\n",
       "      <td>2163589</td>\n",
       "    </tr>\n",
       "    <tr>\n",
       "      <th>1</th>\n",
       "      <td>Водитель</td>\n",
       "      <td>Мужской</td>\n",
       "      <td>[]</td>\n",
       "      <td>Не пострадал</td>\n",
       "      <td>13.0</td>\n",
       "      <td>2163589</td>\n",
       "    </tr>\n",
       "    <tr>\n",
       "      <th>2</th>\n",
       "      <td>Водитель</td>\n",
       "      <td>Мужской</td>\n",
       "      <td>['Неправильный выбор дистанции']</td>\n",
       "      <td>Не пострадал</td>\n",
       "      <td>5.0</td>\n",
       "      <td>2155398</td>\n",
       "    </tr>\n",
       "  </tbody>\n",
       "</table>\n",
       "</div>"
      ],
      "text/plain": [
       "       role   gender                        violations health_status  \\\n",
       "0  Водитель  Мужской                                []  Не пострадал   \n",
       "1  Водитель  Мужской                                []  Не пострадал   \n",
       "2  Водитель  Мужской  ['Неправильный выбор дистанции']  Не пострадал   \n",
       "\n",
       "   years_of_driving_experience       id  \n",
       "0                         13.0  2163589  \n",
       "1                         13.0  2163589  \n",
       "2                          5.0  2155398  "
      ]
     },
     "execution_count": 11,
     "metadata": {},
     "output_type": "execute_result"
    }
   ],
   "source": [
    "moscow_partic_df.head(3)"
   ]
  },
  {
   "cell_type": "markdown",
   "metadata": {},
   "source": [
    "* Датафрейм  `Moscowskaya_oblast_participiants.csv` содержит 95 177 строчек и 6 колонок.\n",
    "* Колонки `gender`, `years_of_driving_experience`, `health_status` содержат пропуска\n",
    "* Остальные выводы аналогичны датафрейму `Kirovskaya_oblast_participiants.csv`"
   ]
  },
  {
   "cell_type": "markdown",
   "metadata": {},
   "source": [
    "---"
   ]
  },
  {
   "cell_type": "markdown",
   "metadata": {},
   "source": [
    "#### Общий обзор датафреймов о Т.С.  `Kirovskaya_oblast_vehicles.csv`, `Moscowskaya_oblast_vehicles.csv`"
   ]
  },
  {
   "cell_type": "code",
   "execution_count": 12,
   "metadata": {},
   "outputs": [
    {
     "name": "stdout",
     "output_type": "stream",
     "text": [
      "<class 'pandas.core.frame.DataFrame'>\n",
      "RangeIndex: 20093 entries, 0 to 20092\n",
      "Data columns (total 6 columns):\n",
      " #   Column    Non-Null Count  Dtype  \n",
      "---  ------    --------------  -----  \n",
      " 0   year      19299 non-null  float64\n",
      " 1   brand     19318 non-null  object \n",
      " 2   color     19643 non-null  object \n",
      " 3   model     19318 non-null  object \n",
      " 4   category  20093 non-null  object \n",
      " 5   id        20093 non-null  int64  \n",
      "dtypes: float64(1), int64(1), object(4)\n",
      "memory usage: 942.0+ KB\n"
     ]
    }
   ],
   "source": [
    "kirov_vehic_df.info()"
   ]
  },
  {
   "cell_type": "code",
   "execution_count": 13,
   "metadata": {
    "scrolled": true
   },
   "outputs": [
    {
     "data": {
      "text/html": [
       "<div>\n",
       "<style scoped>\n",
       "    .dataframe tbody tr th:only-of-type {\n",
       "        vertical-align: middle;\n",
       "    }\n",
       "\n",
       "    .dataframe tbody tr th {\n",
       "        vertical-align: top;\n",
       "    }\n",
       "\n",
       "    .dataframe thead th {\n",
       "        text-align: right;\n",
       "    }\n",
       "</style>\n",
       "<table border=\"1\" class=\"dataframe\">\n",
       "  <thead>\n",
       "    <tr style=\"text-align: right;\">\n",
       "      <th></th>\n",
       "      <th>year</th>\n",
       "      <th>brand</th>\n",
       "      <th>color</th>\n",
       "      <th>model</th>\n",
       "      <th>category</th>\n",
       "      <th>id</th>\n",
       "    </tr>\n",
       "  </thead>\n",
       "  <tbody>\n",
       "    <tr>\n",
       "      <th>0</th>\n",
       "      <td>2011.0</td>\n",
       "      <td>ВАЗ</td>\n",
       "      <td>Серый</td>\n",
       "      <td>Kalina</td>\n",
       "      <td>А-класс (особо малый) до 3,5 м</td>\n",
       "      <td>1983180</td>\n",
       "    </tr>\n",
       "    <tr>\n",
       "      <th>1</th>\n",
       "      <td>2005.0</td>\n",
       "      <td>CHEVROLET</td>\n",
       "      <td>Зеленый</td>\n",
       "      <td>Niva</td>\n",
       "      <td>С-класс (малый средний, компактный) до 4,3 м</td>\n",
       "      <td>2889433</td>\n",
       "    </tr>\n",
       "    <tr>\n",
       "      <th>2</th>\n",
       "      <td>2017.0</td>\n",
       "      <td>RENAULT</td>\n",
       "      <td>Синий</td>\n",
       "      <td>Logan</td>\n",
       "      <td>С-класс (малый средний, компактный) до 4,3 м</td>\n",
       "      <td>2591208</td>\n",
       "    </tr>\n",
       "    <tr>\n",
       "      <th>3</th>\n",
       "      <td>2006.0</td>\n",
       "      <td>ВАЗ</td>\n",
       "      <td>Зеленый</td>\n",
       "      <td>ВАЗ 2115 и модификации</td>\n",
       "      <td>С-класс (малый средний, компактный) до 4,3 м</td>\n",
       "      <td>2577639</td>\n",
       "    </tr>\n",
       "    <tr>\n",
       "      <th>4</th>\n",
       "      <td>1986.0</td>\n",
       "      <td>MERCEDES</td>\n",
       "      <td>Зеленый</td>\n",
       "      <td>Прочие модели Mercedes</td>\n",
       "      <td>Фургоны</td>\n",
       "      <td>1981026</td>\n",
       "    </tr>\n",
       "  </tbody>\n",
       "</table>\n",
       "</div>"
      ],
      "text/plain": [
       "     year      brand    color                   model  \\\n",
       "0  2011.0        ВАЗ    Серый                  Kalina   \n",
       "1  2005.0  CHEVROLET  Зеленый                    Niva   \n",
       "2  2017.0    RENAULT    Синий                   Logan   \n",
       "3  2006.0        ВАЗ  Зеленый  ВАЗ 2115 и модификации   \n",
       "4  1986.0   MERCEDES  Зеленый  Прочие модели Mercedes   \n",
       "\n",
       "                                       category       id  \n",
       "0                А-класс (особо малый) до 3,5 м  1983180  \n",
       "1  С-класс (малый средний, компактный) до 4,3 м  2889433  \n",
       "2  С-класс (малый средний, компактный) до 4,3 м  2591208  \n",
       "3  С-класс (малый средний, компактный) до 4,3 м  2577639  \n",
       "4                                       Фургоны  1981026  "
      ]
     },
     "execution_count": 13,
     "metadata": {},
     "output_type": "execute_result"
    }
   ],
   "source": [
    "kirov_vehic_df.head()"
   ]
  },
  {
   "cell_type": "markdown",
   "metadata": {},
   "source": [
    "* В датафрейме `Kirovskaya_oblast_vehicles.csv` содержится 20 093 строки и 6 колонок.\n",
    "* Все типы данных для колонок корректны\n",
    "* В колонках `year`, `brand`, `color`, `model` содержатся пропуска"
   ]
  },
  {
   "cell_type": "code",
   "execution_count": 14,
   "metadata": {},
   "outputs": [
    {
     "name": "stdout",
     "output_type": "stream",
     "text": [
      "<class 'pandas.core.frame.DataFrame'>\n",
      "RangeIndex: 65606 entries, 0 to 65605\n",
      "Data columns (total 6 columns):\n",
      " #   Column    Non-Null Count  Dtype  \n",
      "---  ------    --------------  -----  \n",
      " 0   year      63860 non-null  float64\n",
      " 1   brand     64185 non-null  object \n",
      " 2   color     64765 non-null  object \n",
      " 3   model     64185 non-null  object \n",
      " 4   category  65606 non-null  object \n",
      " 5   id        65606 non-null  int64  \n",
      "dtypes: float64(1), int64(1), object(4)\n",
      "memory usage: 3.0+ MB\n"
     ]
    }
   ],
   "source": [
    "moscow_vehic_df.info()"
   ]
  },
  {
   "cell_type": "code",
   "execution_count": 15,
   "metadata": {},
   "outputs": [
    {
     "data": {
      "text/html": [
       "<div>\n",
       "<style scoped>\n",
       "    .dataframe tbody tr th:only-of-type {\n",
       "        vertical-align: middle;\n",
       "    }\n",
       "\n",
       "    .dataframe tbody tr th {\n",
       "        vertical-align: top;\n",
       "    }\n",
       "\n",
       "    .dataframe thead th {\n",
       "        text-align: right;\n",
       "    }\n",
       "</style>\n",
       "<table border=\"1\" class=\"dataframe\">\n",
       "  <thead>\n",
       "    <tr style=\"text-align: right;\">\n",
       "      <th></th>\n",
       "      <th>year</th>\n",
       "      <th>brand</th>\n",
       "      <th>color</th>\n",
       "      <th>model</th>\n",
       "      <th>category</th>\n",
       "      <th>id</th>\n",
       "    </tr>\n",
       "  </thead>\n",
       "  <tbody>\n",
       "    <tr>\n",
       "      <th>0</th>\n",
       "      <td>2012.0</td>\n",
       "      <td>ГАЗ</td>\n",
       "      <td>Белый</td>\n",
       "      <td>Прочие модели ГАЗ</td>\n",
       "      <td>Фургоны</td>\n",
       "      <td>2163589</td>\n",
       "    </tr>\n",
       "    <tr>\n",
       "      <th>1</th>\n",
       "      <td>2008.0</td>\n",
       "      <td>OPEL</td>\n",
       "      <td>Черный</td>\n",
       "      <td>Astra</td>\n",
       "      <td>С-класс (малый средний, компактный) до 4,3 м</td>\n",
       "      <td>2155398</td>\n",
       "    </tr>\n",
       "    <tr>\n",
       "      <th>2</th>\n",
       "      <td>2017.0</td>\n",
       "      <td>MAZDA</td>\n",
       "      <td>Черный</td>\n",
       "      <td>CX-5</td>\n",
       "      <td>В-класс (малый) до 3,9 м</td>\n",
       "      <td>2163319</td>\n",
       "    </tr>\n",
       "  </tbody>\n",
       "</table>\n",
       "</div>"
      ],
      "text/plain": [
       "     year  brand   color              model  \\\n",
       "0  2012.0    ГАЗ   Белый  Прочие модели ГАЗ   \n",
       "1  2008.0   OPEL  Черный              Astra   \n",
       "2  2017.0  MAZDA  Черный               CX-5   \n",
       "\n",
       "                                       category       id  \n",
       "0                                       Фургоны  2163589  \n",
       "1  С-класс (малый средний, компактный) до 4,3 м  2155398  \n",
       "2                      В-класс (малый) до 3,9 м  2163319  "
      ]
     },
     "execution_count": 15,
     "metadata": {},
     "output_type": "execute_result"
    }
   ],
   "source": [
    "moscow_vehic_df.head(3)"
   ]
  },
  {
   "cell_type": "markdown",
   "metadata": {},
   "source": [
    " * В датафрейме `Moscowskaya_oblast_vehicles.csv` содержится 65 606 строки и 6 колонок.\n",
    " * Все остальное аналогично датафрейму Кировской области"
   ]
  },
  {
   "cell_type": "markdown",
   "metadata": {},
   "source": [
    "**Общие выводы после знакомства с данными:**\n",
    "* Датафреймы для Московской и Кировской области схожи\n",
    "* Для Московской области выборка данных больше. Это связано с большей площадью региона\n",
    "* В датафреймах присутствуют пропуска. Колонки с пропусками аналогичны для двух датафреймов одной категории"
   ]
  },
  {
   "cell_type": "markdown",
   "metadata": {
    "id": "IeZjY9f9MPgb"
   },
   "source": [
    "###  1) Замена названий (меток) столбцов на оптимальные для работы"
   ]
  },
  {
   "cell_type": "code",
   "execution_count": 16,
   "metadata": {},
   "outputs": [
    {
     "data": {
      "text/plain": [
       "Index(['geometry.coordinates', 'id', 'properties.tags', 'properties.light',\n",
       "       'properties.point.lat', 'properties.point.long', 'properties.nearby',\n",
       "       'properties.region', 'properties.scheme', 'properties.address',\n",
       "       'properties.weather', 'properties.category', 'properties.datetime',\n",
       "       'properties.injured_count', 'properties.parent_region',\n",
       "       'properties.road_conditions', 'properties.participants_count',\n",
       "       'properties.participant_categories'],\n",
       "      dtype='object')"
      ]
     },
     "execution_count": 16,
     "metadata": {},
     "output_type": "execute_result"
    }
   ],
   "source": [
    "kirov_df.columns"
   ]
  },
  {
   "cell_type": "code",
   "execution_count": 17,
   "metadata": {
    "scrolled": true
   },
   "outputs": [],
   "source": [
    "# Преобразование имен колонок в удобные для работы имена\n",
    "for df in [moscow_df, kirov_df]:\n",
    "    df.columns = df.columns.str.replace('properties.', '', regex=True).str.replace('.', '_', regex=True)"
   ]
  },
  {
   "cell_type": "code",
   "execution_count": 18,
   "metadata": {},
   "outputs": [
    {
     "data": {
      "text/plain": [
       "Index(['geometry_coordinates', 'id', 'tags', 'light', 'point_lat',\n",
       "       'point_long', 'nearby', 'region', 'scheme', 'address', 'weather',\n",
       "       'category', 'datetime', 'injured_count', 'parent_region',\n",
       "       'road_conditions', 'participants_count', 'participant_categories'],\n",
       "      dtype='object')"
      ]
     },
     "execution_count": 18,
     "metadata": {},
     "output_type": "execute_result"
    }
   ],
   "source": [
    "kirov_df.columns"
   ]
  },
  {
   "cell_type": "markdown",
   "metadata": {
    "id": "WO_WoGOFMLwN"
   },
   "source": [
    "### 2) Проверка пропусков в данных"
   ]
  },
  {
   "cell_type": "markdown",
   "metadata": {},
   "source": [
    "#### Изучение пропусков на примере датасета `Kirovskaya_oblast.csv`"
   ]
  },
  {
   "cell_type": "code",
   "execution_count": 19,
   "metadata": {},
   "outputs": [
    {
     "data": {
      "text/plain": [
       "geometry_coordinates         0\n",
       "id                           0\n",
       "tags                         0\n",
       "light                        0\n",
       "point_lat                   32\n",
       "point_long                  32\n",
       "nearby                       0\n",
       "region                       0\n",
       "scheme                    1137\n",
       "address                    674\n",
       "weather                      0\n",
       "category                     0\n",
       "datetime                     0\n",
       "injured_count                0\n",
       "parent_region                0\n",
       "road_conditions              0\n",
       "participants_count           0\n",
       "participant_categories       0\n",
       "dtype: int64"
      ]
     },
     "execution_count": 19,
     "metadata": {},
     "output_type": "execute_result"
    }
   ],
   "source": [
    "# Выводим общее кол-во пропусков\n",
    "kirov_df.isna().sum()"
   ]
  },
  {
   "cell_type": "code",
   "execution_count": 20,
   "metadata": {},
   "outputs": [
    {
     "data": {
      "text/plain": [
       "geometry_coordinates      0.00\n",
       "id                        0.00\n",
       "tags                      0.00\n",
       "light                     0.00\n",
       "point_lat                 0.22\n",
       "point_long                0.22\n",
       "nearby                    0.00\n",
       "region                    0.00\n",
       "scheme                    7.83\n",
       "address                   4.64\n",
       "weather                   0.00\n",
       "category                  0.00\n",
       "datetime                  0.00\n",
       "injured_count             0.00\n",
       "parent_region             0.00\n",
       "road_conditions           0.00\n",
       "participants_count        0.00\n",
       "participant_categories    0.00\n",
       "dtype: float64"
      ]
     },
     "execution_count": 20,
     "metadata": {},
     "output_type": "execute_result"
    }
   ],
   "source": [
    "# Выводим долю пропусков в данных\n",
    "round(kirov_df.isna().mean()*100, 2)"
   ]
  },
  {
   "cell_type": "code",
   "execution_count": 21,
   "metadata": {
    "scrolled": false
   },
   "outputs": [
    {
     "data": {
      "text/plain": [
       "<AxesSubplot:>"
      ]
     },
     "execution_count": 21,
     "metadata": {},
     "output_type": "execute_result"
    },
    {
     "data": {
      "image/png": "[encoded data removed]",
      "text/plain": [
       "<Figure size 1800x720 with 2 Axes>"
      ]
     },
     "metadata": {
      "needs_background": "light"
     },
     "output_type": "display_data"
    }
   ],
   "source": [
    "msno.matrix(kirov_df)"
   ]
  },
  {
   "cell_type": "code",
   "execution_count": 22,
   "metadata": {},
   "outputs": [
    {
     "data": {
      "text/plain": [
       "category\n",
       "Наезд на животное                                                                                              0.000000\n",
       "Столкновение                                                                                                   4.075235\n",
       "Наезд на стоящее ТС                                                                                            4.487179\n",
       "Падение пассажира                                                                                              6.368564\n",
       "Наезд на пешехода                                                                                              7.768103\n",
       "Съезд с дороги                                                                                                 8.744589\n",
       "Наезд на препятствие                                                                                           9.595202\n",
       "Опрокидывание                                                                                                  9.980040\n",
       "Наезд на лицо, не являющееся участником дорожного движения, осуществляющее несение службы                     20.000000\n",
       "Наезд на велосипедиста                                                                                        23.259762\n",
       "Наезд на лицо, не являющееся участником дорожного движения, осуществляющее производство работ                 41.666667\n",
       "Наезд на внезапно возникшее препятствие                                                                       50.000000\n",
       "Иной вид ДТП                                                                                                  65.891473\n",
       "Наезд на лицо, не являющееся участником дорожного движения, осуществляющее какую-либо другую деятельность     66.666667\n",
       "Отбрасывание предмета                                                                                         88.888889\n",
       "Падение груза                                                                                                100.000000\n",
       "Name: scheme, dtype: float64"
      ]
     },
     "execution_count": 22,
     "metadata": {},
     "output_type": "execute_result"
    }
   ],
   "source": [
    "# Распределение пропусков по типу ДТП\n",
    "kirov_df.groupby('category')['scheme'].apply(lambda x: x.isna().mean() *100).sort_values()"
   ]
  },
  {
   "cell_type": "markdown",
   "metadata": {},
   "source": [
    "* Пропуски распределены в хаотичном порядке\n",
    "* Пропуски в колонках `point_lat` и `point_long` составляют 0.22% и находятся в одинаковых строках. Скорее всего такие пропуски связаны с ошибкой занесения данных. Эти колонки нам не нужны для дальнейших расчетов, можем оставить NaN значения\n",
    "* Пропуски в колонке `scheme` могут быть как технической ошибкой, так и отсутствием схемы. Cхемы частично отсутствуют в проишествиях до 6 пострадавших, полностью отсутствуют в ДТП с падением груза и в основном отсуствтуют в ДТП с отбрасыванием предмета. Можно предположить что схемы не оформлялись по причине легких повреждений без серьезных последствий или по договору двух сторон. Необходимо в дальнейшем указывать вместо NaN значений значение \"Схема не оформлялась\". В текущий момент оставим эти пропуска в формате NaN, данная колонка не нужна в расчетах.\n",
    "* Пропуски в колонке `address` являются как ошибкой занесения данных, так и остуствием адреса. При выборочной проверке координат можно заметит что ДТП с id 2875597 было совершено в многоквартирных домах у которых присутствует адресс, а вот ДТП с id 2861063 было совершено на проселочной дороге без названия. В дальнейшем необходимо детальнее заполнять эту колонку. Если адресс отсутствует можно указать область и район. В данный момент оставим эти пропуска как NaN. Данная колонка нам не нужна."
   ]
  },
  {
   "cell_type": "markdown",
   "metadata": {},
   "source": [
    "----"
   ]
  },
  {
   "cell_type": "markdown",
   "metadata": {},
   "source": [
    "#### Изучение пропусков на примере датасета `Kirovskaya_oblast_participiants.csv`"
   ]
  },
  {
   "cell_type": "code",
   "execution_count": 23,
   "metadata": {},
   "outputs": [
    {
     "data": {
      "text/plain": [
       "role                               0\n",
       "gender                           848\n",
       "violations                         0\n",
       "health_status                    100\n",
       "years_of_driving_experience    14326\n",
       "id                                 0\n",
       "dtype: int64"
      ]
     },
     "execution_count": 23,
     "metadata": {},
     "output_type": "execute_result"
    }
   ],
   "source": [
    "# Выводим кол-во пропусков в данных\n",
    "kirov_partic_df.isna().sum()"
   ]
  },
  {
   "cell_type": "code",
   "execution_count": 24,
   "metadata": {
    "scrolled": true
   },
   "outputs": [
    {
     "data": {
      "text/plain": [
       "role                            0.00\n",
       "gender                          2.71\n",
       "violations                      0.00\n",
       "health_status                   0.32\n",
       "years_of_driving_experience    45.87\n",
       "id                              0.00\n",
       "dtype: float64"
      ]
     },
     "execution_count": 24,
     "metadata": {},
     "output_type": "execute_result"
    }
   ],
   "source": [
    "# Выводим долю пропусков в данных\n",
    "round(kirov_partic_df.isna().mean() * 100, 2)"
   ]
  },
  {
   "cell_type": "code",
   "execution_count": 25,
   "metadata": {},
   "outputs": [
    {
     "data": {
      "text/plain": [
       "role                            0.00\n",
       "gender                          3.72\n",
       "violations                      0.00\n",
       "health_status                   0.47\n",
       "years_of_driving_experience    14.40\n",
       "id                              0.00\n",
       "dtype: float64"
      ]
     },
     "execution_count": 25,
     "metadata": {},
     "output_type": "execute_result"
    }
   ],
   "source": [
    "# Выводим долю пропусков в данных для водителей\n",
    "round(kirov_partic_df[kirov_partic_df['role']=='Водитель'].isna().mean() * 100, 2)"
   ]
  },
  {
   "cell_type": "code",
   "execution_count": 26,
   "metadata": {},
   "outputs": [
    {
     "data": {
      "text/plain": [
       "<AxesSubplot:>"
      ]
     },
     "execution_count": 26,
     "metadata": {},
     "output_type": "execute_result"
    },
    {
     "data": {
      "image/png": "[encoded data removed]",
      "text/plain": [
       "<Figure size 1800x720 with 2 Axes>"
      ]
     },
     "metadata": {
      "needs_background": "light"
     },
     "output_type": "display_data"
    }
   ],
   "source": [
    "msno.matrix(kirov_partic_df)"
   ]
  },
  {
   "cell_type": "markdown",
   "metadata": {},
   "source": [
    "Необходимо детально изучить распределение NaN значений для `years_of_driving_experience`"
   ]
  },
  {
   "cell_type": "code",
   "execution_count": 27,
   "metadata": {},
   "outputs": [
    {
     "data": {
      "text/plain": [
       "role\n",
       "Водитель                                                                                                                             14.397813\n",
       "Велосипедист                                                                                                                        100.000000\n",
       "Пассажир                                                                                                                            100.000000\n",
       "Пешеход                                                                                                                             100.000000\n",
       "Пешеход, перед ДТП находившийся в (на) ТС в качестве водителя или пешеход, перед ДТП находившийся в (на) ТС в качестве пассажира    100.000000\n",
       "Name: years_of_driving_experience, dtype: float64"
      ]
     },
     "execution_count": 27,
     "metadata": {},
     "output_type": "execute_result"
    }
   ],
   "source": [
    "# Распределение пропусков по роли ДТП\n",
    "kirov_partic_df.groupby('role')['years_of_driving_experience'].apply(lambda x: x.isna().mean() * 100).sort_values()"
   ]
  },
  {
   "cell_type": "code",
   "execution_count": 28,
   "metadata": {},
   "outputs": [
    {
     "data": {
      "text/plain": [
       "violations\n",
       "[]                                                          13345\n",
       "['Несоблюдение очередности проезда']                         1487\n",
       "['Другие нарушения ПДД водителем']                           1174\n",
       "['Несоответствие скорости конкретным условиям движения']      989\n",
       "['Нарушение правил проезда пешеходного перехода']             926\n",
       "Name: id, dtype: int64"
      ]
     },
     "execution_count": 28,
     "metadata": {},
     "output_type": "execute_result"
    }
   ],
   "source": [
    "# Распределение пропусков по нарушениям\n",
    "kirov_partic_df.groupby('violations')['id'].apply(lambda x: x.count()).sort_values(ascending=False).head()"
   ]
  },
  {
   "cell_type": "code",
   "execution_count": 29,
   "metadata": {},
   "outputs": [
    {
     "data": {
      "text/plain": [
       "1.0"
      ]
     },
     "execution_count": 29,
     "metadata": {},
     "output_type": "execute_result"
    }
   ],
   "source": [
    "# Минимальный стаж\n",
    "df = kirov_partic_df[kirov_partic_df['role']=='Водитель']\n",
    "df['years_of_driving_experience'].min()"
   ]
  },
  {
   "cell_type": "code",
   "execution_count": 30,
   "metadata": {},
   "outputs": [
    {
     "data": {
      "text/plain": [
       "966"
      ]
     },
     "execution_count": 30,
     "metadata": {},
     "output_type": "execute_result"
    }
   ],
   "source": [
    "# Кол-во ДТП в которых покинули место ДТП без указания стажа\n",
    "df = kirov_partic_df[kirov_partic_df['violations'].str.contains('Оставление').groupby(level=0).any()]\n",
    "df[df['years_of_driving_experience'].isna()].shape[0]"
   ]
  },
  {
   "cell_type": "markdown",
   "metadata": {},
   "source": [
    "* Пропуски в колонке `gender` и `health_status` для водителей корелируются с пропусками в стаже вождения и связаны с нарушением \"Оставление места ДТП\". Предположим что установить пол и стаж вождения для таких ДТП было невозможным, в связи с отсутсвием исполнителя\n",
    "* Пропуски для пешеходов в данных колонках выявлены для незначительных правонарушений. Значения в данных колонках можно заменить на Неизвестно или оставить как NaN. Эти данные нам не нужны для расчетов.\n",
    "* Пропуски в колонке `years_of_driving_experience` составляют 45% всех данных. Данные пропуска частично возникли из-за оставления места ДТП. Минимальный год стажа 1. Можно предположить что NaN значения, кроме случаев оставления места ДТП для водителей - стаж менее года или у водителя отсутсвтуют права. Точных данных и возможности свзяться с заказчиком у нас нет, доля таких пропусков среди водителей 15%, так что заменим значения NaN на индикатор -1"
   ]
  },
  {
   "cell_type": "code",
   "execution_count": 31,
   "metadata": {},
   "outputs": [],
   "source": [
    "# Произведем преобразование NaN в индикатор\n",
    "kirov_partic_df['years_of_driving_experience'].fillna(-1, inplace=True)"
   ]
  },
  {
   "cell_type": "code",
   "execution_count": 32,
   "metadata": {},
   "outputs": [],
   "source": [
    "# Произведем преобразование NaN в индикатор\n",
    "moscow_partic_df['years_of_driving_experience'].fillna(-1, inplace=True)"
   ]
  },
  {
   "cell_type": "markdown",
   "metadata": {},
   "source": [
    "----"
   ]
  },
  {
   "cell_type": "markdown",
   "metadata": {},
   "source": [
    "#### Изучение пропусков на примере датасета `Kirovskaya_oblast_vehicles.csv`"
   ]
  },
  {
   "cell_type": "code",
   "execution_count": 33,
   "metadata": {},
   "outputs": [
    {
     "data": {
      "text/plain": [
       "year        794\n",
       "brand       775\n",
       "color       450\n",
       "model       775\n",
       "category      0\n",
       "id            0\n",
       "dtype: int64"
      ]
     },
     "execution_count": 33,
     "metadata": {},
     "output_type": "execute_result"
    }
   ],
   "source": [
    "# Выводим кол-во пропусков в данных\n",
    "kirov_vehic_df.isna().sum()"
   ]
  },
  {
   "cell_type": "code",
   "execution_count": 34,
   "metadata": {},
   "outputs": [
    {
     "data": {
      "text/plain": [
       "year        3.95\n",
       "brand       3.86\n",
       "color       2.24\n",
       "model       3.86\n",
       "category    0.00\n",
       "id          0.00\n",
       "dtype: float64"
      ]
     },
     "execution_count": 34,
     "metadata": {},
     "output_type": "execute_result"
    }
   ],
   "source": [
    "# Выводим долю пропусков в данных\n",
    "round(kirov_vehic_df.isna().mean() * 100, 2)"
   ]
  },
  {
   "cell_type": "code",
   "execution_count": 35,
   "metadata": {
    "scrolled": false
   },
   "outputs": [
    {
     "data": {
      "text/plain": [
       "<AxesSubplot:>"
      ]
     },
     "execution_count": 35,
     "metadata": {},
     "output_type": "execute_result"
    },
    {
     "data": {
      "image/png": "[encoded data removed]",
      "text/plain": [
       "<Figure size 1800x720 with 2 Axes>"
      ]
     },
     "metadata": {
      "needs_background": "light"
     },
     "output_type": "display_data"
    }
   ],
   "source": [
    "msno.matrix(kirov_vehic_df)"
   ]
  },
  {
   "cell_type": "code",
   "execution_count": 36,
   "metadata": {},
   "outputs": [
    {
     "data": {
      "text/plain": [
       "category\n",
       "Персональное электрическое средство передвижения малой мощности    100.000000\n",
       "Подвижной состав ж/д                                                80.000000\n",
       "Иные ТС                                                             57.522124\n",
       "Велосипеды                                                          52.135231\n",
       "Бульдозеры                                                          50.000000\n",
       "Грузовые автомобили (без типа)                                      25.000000\n",
       "Мопеды с электродвигателем менее 4 кВт                              24.444444\n",
       "Троллейбусы                                                         23.287671\n",
       "Фронтальные погрузчики                                              18.181818\n",
       "Мопеды с двигателем внутреннего сгорания менее 50 см. куб.          17.037037\n",
       "Name: brand, dtype: float64"
      ]
     },
     "execution_count": 36,
     "metadata": {},
     "output_type": "execute_result"
    }
   ],
   "source": [
    "kirov_vehic_df.groupby('category')['brand'].apply(lambda x: x.isna().mean() * 100).sort_values(ascending=False).head(10)"
   ]
  },
  {
   "cell_type": "markdown",
   "metadata": {},
   "source": [
    "* NaN значения в колонках `year`, `brand`, `color`, `model` связаны с трудным категорированием данных ТС (Поезда, велосипеды, электросамокаты и тп). Данные колонки не нужны для расчетов. Оставим NaN значения"
   ]
  },
  {
   "cell_type": "markdown",
   "metadata": {
    "id": "8J3L9kYZ8XZx"
   },
   "source": [
    "### 3) Наличие явных и неявных дубликатов в данных\n",
    "\n"
   ]
  },
  {
   "cell_type": "code",
   "execution_count": 37,
   "metadata": {
    "id": "1cAm27OH8gKN"
   },
   "outputs": [
    {
     "data": {
      "text/plain": [
       "array([\"['Дождь']\", \"['Ясно']\", \"['Пасмурно']\", \"['Снегопад']\",\n",
       "       \"['Снегопад', 'Метель']\", \"['Пасмурно', 'Дождь']\", \"['Туман']\",\n",
       "       \"['Пасмурно', 'Температура ниже -30С']\",\n",
       "       \"['Пасмурно', 'Снегопад']\", \"['Ясно', 'Температура выше +30С']\",\n",
       "       \"['Пасмурно', 'Туман']\", \"['Метель']\", \"['Пасмурно', 'Метель']\",\n",
       "       \"['Ясно', 'Температура ниже -30С']\",\n",
       "       \"['Пасмурно', 'Ураганный ветер']\", \"['Ясно', 'Туман']\",\n",
       "       \"['Дождь', 'Туман']\", \"['Дождь', 'Снегопад']\"], dtype=object)"
      ]
     },
     "execution_count": 37,
     "metadata": {},
     "output_type": "execute_result"
    }
   ],
   "source": [
    "# проверка неявных дубликатов\n",
    "kirov_df['weather'].unique()"
   ]
  },
  {
   "cell_type": "markdown",
   "metadata": {},
   "source": [
    "При проверке значений во всех колонках неявных дубликатов не было выявлено"
   ]
  },
  {
   "cell_type": "code",
   "execution_count": 38,
   "metadata": {
    "scrolled": true
   },
   "outputs": [
    {
     "data": {
      "text/plain": [
       "0"
      ]
     },
     "execution_count": 38,
     "metadata": {},
     "output_type": "execute_result"
    }
   ],
   "source": [
    "# Поиск явных дубликатов\n",
    "kirov_df.duplicated().sum()"
   ]
  },
  {
   "cell_type": "code",
   "execution_count": 39,
   "metadata": {},
   "outputs": [
    {
     "data": {
      "text/plain": [
       "0"
      ]
     },
     "execution_count": 39,
     "metadata": {},
     "output_type": "execute_result"
    }
   ],
   "source": [
    "# Поиск дубликатов по колонкам\n",
    "kirov_df.duplicated(subset=['id', 'region', 'category']).sum()"
   ]
  },
  {
   "cell_type": "markdown",
   "metadata": {},
   "source": [
    "В датафрейме `kirov_df` не найдено явных и неявных дубликатов"
   ]
  },
  {
   "cell_type": "markdown",
   "metadata": {},
   "source": [
    "----"
   ]
  },
  {
   "cell_type": "code",
   "execution_count": 40,
   "metadata": {},
   "outputs": [
    {
     "data": {
      "text/plain": [
       "0"
      ]
     },
     "execution_count": 40,
     "metadata": {},
     "output_type": "execute_result"
    }
   ],
   "source": [
    "# Поиск явных дубликатов\n",
    "moscow_df.duplicated().sum()"
   ]
  },
  {
   "cell_type": "markdown",
   "metadata": {},
   "source": [
    "При проверке значений во всех колонках неявных дубликатов не было выявлено"
   ]
  },
  {
   "cell_type": "markdown",
   "metadata": {},
   "source": [
    "----"
   ]
  },
  {
   "cell_type": "code",
   "execution_count": 41,
   "metadata": {},
   "outputs": [
    {
     "data": {
      "text/plain": [
       "array(['Водитель', 'Пассажир', 'Велосипедист', 'Пешеход',\n",
       "       'Пешеход, перед ДТП находившийся в (на) ТС в качестве водителя или пешеход, перед ДТП находившийся в (на) ТС в качестве пассажира'],\n",
       "      dtype=object)"
      ]
     },
     "execution_count": 41,
     "metadata": {},
     "output_type": "execute_result"
    }
   ],
   "source": [
    "# проверка неявных дубликатов\n",
    "kirov_partic_df['role'].unique()"
   ]
  },
  {
   "cell_type": "code",
   "execution_count": 42,
   "metadata": {},
   "outputs": [
    {
     "data": {
      "text/plain": [
       "9727"
      ]
     },
     "execution_count": 42,
     "metadata": {},
     "output_type": "execute_result"
    }
   ],
   "source": [
    "# Проверка дубликатов во втором датафрейме\n",
    "kirov_partic_df.duplicated().sum()"
   ]
  },
  {
   "cell_type": "markdown",
   "metadata": {},
   "source": [
    "Найдено 9 727 дубликатов. Т.к. в ДТП может быть несколько участников, нельзя утверждать, что эти строки полностью задублированы."
   ]
  },
  {
   "cell_type": "code",
   "execution_count": 43,
   "metadata": {},
   "outputs": [
    {
     "data": {
      "text/html": [
       "<div>\n",
       "<style scoped>\n",
       "    .dataframe tbody tr th:only-of-type {\n",
       "        vertical-align: middle;\n",
       "    }\n",
       "\n",
       "    .dataframe tbody tr th {\n",
       "        vertical-align: top;\n",
       "    }\n",
       "\n",
       "    .dataframe thead th {\n",
       "        text-align: right;\n",
       "    }\n",
       "</style>\n",
       "<table border=\"1\" class=\"dataframe\">\n",
       "  <thead>\n",
       "    <tr style=\"text-align: right;\">\n",
       "      <th></th>\n",
       "      <th>role</th>\n",
       "      <th>gender</th>\n",
       "      <th>violations</th>\n",
       "      <th>health_status</th>\n",
       "      <th>years_of_driving_experience</th>\n",
       "      <th>id</th>\n",
       "    </tr>\n",
       "  </thead>\n",
       "  <tbody>\n",
       "    <tr>\n",
       "      <th>20276</th>\n",
       "      <td>Пассажир</td>\n",
       "      <td>Женский</td>\n",
       "      <td>[]</td>\n",
       "      <td>Получил телесные повреждения с показанием к ле...</td>\n",
       "      <td>-1.0</td>\n",
       "      <td>1979483</td>\n",
       "    </tr>\n",
       "    <tr>\n",
       "      <th>20277</th>\n",
       "      <td>Пассажир</td>\n",
       "      <td>Женский</td>\n",
       "      <td>[]</td>\n",
       "      <td>Получил телесные повреждения с показанием к ле...</td>\n",
       "      <td>-1.0</td>\n",
       "      <td>1979483</td>\n",
       "    </tr>\n",
       "    <tr>\n",
       "      <th>569</th>\n",
       "      <td>Пассажир</td>\n",
       "      <td>Женский</td>\n",
       "      <td>[]</td>\n",
       "      <td>Получил телесные повреждения с показанием к ле...</td>\n",
       "      <td>-1.0</td>\n",
       "      <td>1979483</td>\n",
       "    </tr>\n",
       "    <tr>\n",
       "      <th>25215</th>\n",
       "      <td>Водитель</td>\n",
       "      <td>Мужской</td>\n",
       "      <td>['Несоответствие скорости конкретным условиям ...</td>\n",
       "      <td>Не пострадал</td>\n",
       "      <td>2.0</td>\n",
       "      <td>1979483</td>\n",
       "    </tr>\n",
       "    <tr>\n",
       "      <th>625</th>\n",
       "      <td>Водитель</td>\n",
       "      <td>Мужской</td>\n",
       "      <td>['Несоответствие скорости конкретным условиям ...</td>\n",
       "      <td>Раненый, находящийся (находившийся)  на амбула...</td>\n",
       "      <td>17.0</td>\n",
       "      <td>1979484</td>\n",
       "    </tr>\n",
       "    <tr>\n",
       "      <th>...</th>\n",
       "      <td>...</td>\n",
       "      <td>...</td>\n",
       "      <td>...</td>\n",
       "      <td>...</td>\n",
       "      <td>...</td>\n",
       "      <td>...</td>\n",
       "    </tr>\n",
       "    <tr>\n",
       "      <th>6440</th>\n",
       "      <td>Водитель</td>\n",
       "      <td>Мужской</td>\n",
       "      <td>['Нарушение правил проезда пешеходного перехода']</td>\n",
       "      <td>Не пострадал</td>\n",
       "      <td>26.0</td>\n",
       "      <td>3011877</td>\n",
       "    </tr>\n",
       "    <tr>\n",
       "      <th>6441</th>\n",
       "      <td>Водитель</td>\n",
       "      <td>Мужской</td>\n",
       "      <td>['Нарушение правил проезда пешеходного перехода']</td>\n",
       "      <td>Не пострадал</td>\n",
       "      <td>26.0</td>\n",
       "      <td>3011877</td>\n",
       "    </tr>\n",
       "    <tr>\n",
       "      <th>21912</th>\n",
       "      <td>Водитель</td>\n",
       "      <td>Мужской</td>\n",
       "      <td>['Светопропускание стекол менее нормативного']</td>\n",
       "      <td>Раненый, находящийся (находившийся) на стацион...</td>\n",
       "      <td>5.0</td>\n",
       "      <td>3011879</td>\n",
       "    </tr>\n",
       "    <tr>\n",
       "      <th>6444</th>\n",
       "      <td>Пассажир</td>\n",
       "      <td>Мужской</td>\n",
       "      <td>[]</td>\n",
       "      <td>Раненый, находящийся (находившийся) на амбулат...</td>\n",
       "      <td>-1.0</td>\n",
       "      <td>3011879</td>\n",
       "    </tr>\n",
       "    <tr>\n",
       "      <th>6448</th>\n",
       "      <td>Водитель</td>\n",
       "      <td>Мужской</td>\n",
       "      <td>[]</td>\n",
       "      <td>Не пострадал</td>\n",
       "      <td>11.0</td>\n",
       "      <td>3011884</td>\n",
       "    </tr>\n",
       "  </tbody>\n",
       "</table>\n",
       "<p>9727 rows × 6 columns</p>\n",
       "</div>"
      ],
      "text/plain": [
       "           role   gender                                         violations  \\\n",
       "20276  Пассажир  Женский                                                 []   \n",
       "20277  Пассажир  Женский                                                 []   \n",
       "569    Пассажир  Женский                                                 []   \n",
       "25215  Водитель  Мужской  ['Несоответствие скорости конкретным условиям ...   \n",
       "625    Водитель  Мужской  ['Несоответствие скорости конкретным условиям ...   \n",
       "...         ...      ...                                                ...   \n",
       "6440   Водитель  Мужской  ['Нарушение правил проезда пешеходного перехода']   \n",
       "6441   Водитель  Мужской  ['Нарушение правил проезда пешеходного перехода']   \n",
       "21912  Водитель  Мужской     ['Светопропускание стекол менее нормативного']   \n",
       "6444   Пассажир  Мужской                                                 []   \n",
       "6448   Водитель  Мужской                                                 []   \n",
       "\n",
       "                                           health_status  \\\n",
       "20276  Получил телесные повреждения с показанием к ле...   \n",
       "20277  Получил телесные повреждения с показанием к ле...   \n",
       "569    Получил телесные повреждения с показанием к ле...   \n",
       "25215                                       Не пострадал   \n",
       "625    Раненый, находящийся (находившийся)  на амбула...   \n",
       "...                                                  ...   \n",
       "6440                                        Не пострадал   \n",
       "6441                                        Не пострадал   \n",
       "21912  Раненый, находящийся (находившийся) на стацион...   \n",
       "6444   Раненый, находящийся (находившийся) на амбулат...   \n",
       "6448                                        Не пострадал   \n",
       "\n",
       "       years_of_driving_experience       id  \n",
       "20276                         -1.0  1979483  \n",
       "20277                         -1.0  1979483  \n",
       "569                           -1.0  1979483  \n",
       "25215                          2.0  1979483  \n",
       "625                           17.0  1979484  \n",
       "...                            ...      ...  \n",
       "6440                          26.0  3011877  \n",
       "6441                          26.0  3011877  \n",
       "21912                          5.0  3011879  \n",
       "6444                          -1.0  3011879  \n",
       "6448                          11.0  3011884  \n",
       "\n",
       "[9727 rows x 6 columns]"
      ]
     },
     "execution_count": 43,
     "metadata": {},
     "output_type": "execute_result"
    }
   ],
   "source": [
    "# Проверим дубликаты\n",
    "df = kirov_partic_df[kirov_partic_df.duplicated()]\n",
    "df.sort_values('id')"
   ]
  },
  {
   "cell_type": "code",
   "execution_count": 44,
   "metadata": {},
   "outputs": [],
   "source": [
    "list_partic_id = kirov_partic_df['id'].to_list()"
   ]
  },
  {
   "cell_type": "code",
   "execution_count": 45,
   "metadata": {},
   "outputs": [
    {
     "data": {
      "text/plain": [
       "31395"
      ]
     },
     "execution_count": 45,
     "metadata": {},
     "output_type": "execute_result"
    }
   ],
   "source": [
    "kirov_df[kirov_df['id'].isin(list_partic_id)]['participants_count'].sum()"
   ]
  },
  {
   "cell_type": "code",
   "execution_count": 46,
   "metadata": {},
   "outputs": [
    {
     "data": {
      "text/plain": [
       "31235"
      ]
     },
     "execution_count": 46,
     "metadata": {},
     "output_type": "execute_result"
    }
   ],
   "source": [
    "kirov_partic_df['id'].count()"
   ]
  },
  {
   "cell_type": "markdown",
   "metadata": {},
   "source": [
    "Сравнение суммы потерпевших датафрейма `kirov_df` с данными о дтп из `kirov_partic_df` с суммой потерпевших датафрейма `kirov_partic_df` показали, что данные дубликаты - дублирующие строки с потерпевшими. Для избегания такой проблемы в дальнейшем можно присвоить уникальный номер для каждого потерпевшего."
   ]
  },
  {
   "cell_type": "markdown",
   "metadata": {
    "id": "FQyJB_QL-GQB"
   },
   "source": [
    "### 4) Преобразование типов данных"
   ]
  },
  {
   "cell_type": "code",
   "execution_count": 47,
   "metadata": {},
   "outputs": [],
   "source": [
    "# Проведем преобразования типов данных\n",
    "df_list = [kirov_df, moscow_df]\n",
    "column_int_names = ['id', 'participants_count', 'scheme', 'injured_count', 'participants_count']\n",
    "columns_float_name = ['point_lat', 'point_long']\n",
    "columns_category_name = ['nearby', 'weather', 'road_conditions', 'participant_categories']\n",
    "column_to_dt = 'datetime'"
   ]
  },
  {
   "cell_type": "code",
   "execution_count": 48,
   "metadata": {},
   "outputs": [],
   "source": [
    "for df in df_list:\n",
    "    df[column_int_names] = df[column_int_names].apply(pd.to_numeric, errors='coerce', downcast='integer')\n",
    "    df[columns_float_name] = df[columns_float_name].apply(pd.to_numeric, errors='coerce', downcast='float')\n",
    "    df[columns_category_name] = df[columns_category_name].apply(lambda x: x.astype('category'))\n",
    "    df[column_to_dt] = pd.to_datetime(df[column_to_dt], errors='coerce')"
   ]
  },
  {
   "cell_type": "code",
   "execution_count": 49,
   "metadata": {
    "scrolled": false
   },
   "outputs": [
    {
     "name": "stdout",
     "output_type": "stream",
     "text": [
      "<class 'pandas.core.frame.DataFrame'>\n",
      "RangeIndex: 14517 entries, 0 to 14516\n",
      "Data columns (total 18 columns):\n",
      " #   Column                  Non-Null Count  Dtype         \n",
      "---  ------                  --------------  -----         \n",
      " 0   geometry_coordinates    14517 non-null  object        \n",
      " 1   id                      14517 non-null  int32         \n",
      " 2   tags                    14517 non-null  object        \n",
      " 3   light                   14517 non-null  object        \n",
      " 4   point_lat               14485 non-null  float32       \n",
      " 5   point_long              14485 non-null  float32       \n",
      " 6   nearby                  14517 non-null  category      \n",
      " 7   region                  14517 non-null  object        \n",
      " 8   scheme                  13380 non-null  float64       \n",
      " 9   address                 13843 non-null  object        \n",
      " 10  weather                 14517 non-null  category      \n",
      " 11  category                14517 non-null  object        \n",
      " 12  datetime                14517 non-null  datetime64[ns]\n",
      " 13  injured_count           14517 non-null  int8          \n",
      " 14  parent_region           14517 non-null  object        \n",
      " 15  road_conditions         14517 non-null  category      \n",
      " 16  participants_count      14517 non-null  int8          \n",
      " 17  participant_categories  14517 non-null  category      \n",
      "dtypes: category(4), datetime64[ns](1), float32(2), float64(1), int32(1), int8(2), object(7)\n",
      "memory usage: 1.4+ MB\n"
     ]
    }
   ],
   "source": [
    "kirov_df.info()"
   ]
  },
  {
   "cell_type": "markdown",
   "metadata": {},
   "source": [
    "Для датафреймов `kirov_df` и `moscow_df` были преобразованы значения и уменьшены разрядности"
   ]
  },
  {
   "cell_type": "code",
   "execution_count": 50,
   "metadata": {},
   "outputs": [
    {
     "name": "stdout",
     "output_type": "stream",
     "text": [
      "<class 'pandas.core.frame.DataFrame'>\n",
      "RangeIndex: 31235 entries, 0 to 31234\n",
      "Data columns (total 6 columns):\n",
      " #   Column                       Non-Null Count  Dtype  \n",
      "---  ------                       --------------  -----  \n",
      " 0   role                         31235 non-null  object \n",
      " 1   gender                       30387 non-null  object \n",
      " 2   violations                   31235 non-null  object \n",
      " 3   health_status                31135 non-null  object \n",
      " 4   years_of_driving_experience  31235 non-null  float64\n",
      " 5   id                           31235 non-null  int64  \n",
      "dtypes: float64(1), int64(1), object(4)\n",
      "memory usage: 1.4+ MB\n"
     ]
    }
   ],
   "source": [
    "kirov_partic_df.info()"
   ]
  },
  {
   "cell_type": "code",
   "execution_count": 51,
   "metadata": {},
   "outputs": [],
   "source": [
    "# Преобразуем второй датафрейм\n",
    "df_list = [kirov_partic_df, moscow_partic_df]\n",
    "columns_category_name = ['role', 'gender']\n",
    "for df in df_list:\n",
    "    df[columns_category_name] = df[columns_category_name].apply(lambda x: x.astype('category'))"
   ]
  },
  {
   "cell_type": "markdown",
   "metadata": {
    "id": "XbvXOlrAAjqB"
   },
   "source": [
    "## Исследовательский анализ\n",
    "\n"
   ]
  },
  {
   "cell_type": "markdown",
   "metadata": {
    "id": "jhehiImVAnQJ"
   },
   "source": [
    "### Какое число ДТП случилось в каждый день недели. Разбивка числа происшествий по месяцам"
   ]
  },
  {
   "cell_type": "code",
   "execution_count": 52,
   "metadata": {},
   "outputs": [],
   "source": [
    "# Добавим дополнительные колонки для расчетов\n",
    "df_list = [kirov_df, moscow_df]\n",
    "for df in df_list:\n",
    "    df['day_of_week'] = df['datetime'].dt.day_name()\n",
    "    df['num_day'] = df['datetime'].dt.dayofweek\n",
    "    df['month'] = df['datetime'].dt.month\n",
    "    df['year'] = df['datetime'].dt.year"
   ]
  },
  {
   "cell_type": "code",
   "execution_count": 53,
   "metadata": {
    "scrolled": true
   },
   "outputs": [
    {
     "data": {
      "text/html": [
       "<div>\n",
       "<style scoped>\n",
       "    .dataframe tbody tr th:only-of-type {\n",
       "        vertical-align: middle;\n",
       "    }\n",
       "\n",
       "    .dataframe tbody tr th {\n",
       "        vertical-align: top;\n",
       "    }\n",
       "\n",
       "    .dataframe thead th {\n",
       "        text-align: right;\n",
       "    }\n",
       "</style>\n",
       "<table border=\"1\" class=\"dataframe\">\n",
       "  <thead>\n",
       "    <tr style=\"text-align: right;\">\n",
       "      <th></th>\n",
       "      <th>day_of_week</th>\n",
       "      <th>kirov_obl</th>\n",
       "      <th>moscow_obl</th>\n",
       "    </tr>\n",
       "  </thead>\n",
       "  <tbody>\n",
       "    <tr>\n",
       "      <th>1</th>\n",
       "      <td>Monday</td>\n",
       "      <td>2010</td>\n",
       "      <td>6390</td>\n",
       "    </tr>\n",
       "    <tr>\n",
       "      <th>5</th>\n",
       "      <td>Tuesday</td>\n",
       "      <td>1988</td>\n",
       "      <td>6156</td>\n",
       "    </tr>\n",
       "    <tr>\n",
       "      <th>6</th>\n",
       "      <td>Wednesday</td>\n",
       "      <td>1939</td>\n",
       "      <td>6102</td>\n",
       "    </tr>\n",
       "    <tr>\n",
       "      <th>4</th>\n",
       "      <td>Thursday</td>\n",
       "      <td>1936</td>\n",
       "      <td>6343</td>\n",
       "    </tr>\n",
       "    <tr>\n",
       "      <th>0</th>\n",
       "      <td>Friday</td>\n",
       "      <td>2344</td>\n",
       "      <td>7024</td>\n",
       "    </tr>\n",
       "    <tr>\n",
       "      <th>2</th>\n",
       "      <td>Saturday</td>\n",
       "      <td>2246</td>\n",
       "      <td>7285</td>\n",
       "    </tr>\n",
       "    <tr>\n",
       "      <th>3</th>\n",
       "      <td>Sunday</td>\n",
       "      <td>2054</td>\n",
       "      <td>6318</td>\n",
       "    </tr>\n",
       "  </tbody>\n",
       "</table>\n",
       "</div>"
      ],
      "text/plain": [
       "  day_of_week  kirov_obl  moscow_obl\n",
       "1      Monday       2010        6390\n",
       "5     Tuesday       1988        6156\n",
       "6   Wednesday       1939        6102\n",
       "4    Thursday       1936        6343\n",
       "0      Friday       2344        7024\n",
       "2    Saturday       2246        7285\n",
       "3      Sunday       2054        6318"
      ]
     },
     "execution_count": 53,
     "metadata": {},
     "output_type": "execute_result"
    }
   ],
   "source": [
    "# Проведем группировку по необходимым дням и ищем ДТП по дням недели\n",
    "kirov_by_day = kirov_df.groupby('day_of_week')['id'].agg('count').reset_index()\n",
    "moscow_by_day = moscow_df.groupby('day_of_week')['id'].agg('count').reset_index()\n",
    "\n",
    "merged_df = pd.merge(kirov_by_day, moscow_by_day, on='day_of_week', how='inner')\n",
    "\n",
    "day_map = {\n",
    "    'Monday': 1,\n",
    "    'Tuesday': 2,\n",
    "    'Wednesday': 3,\n",
    "    'Thursday': 4,\n",
    "    'Friday': 5,\n",
    "    'Saturday': 6,\n",
    "    'Sunday': 7\n",
    "}\n",
    "merged_df['day_order'] = merged_df['day_of_week'].map(day_map)\n",
    "merged_df = merged_df.sort_values('day_order').drop(columns=['day_order'])\n",
    "merged_df.rename(columns={'id_x': 'kirov_obl', 'id_y': 'moscow_obl'})"
   ]
  },
  {
   "cell_type": "markdown",
   "metadata": {},
   "source": [
    "* Чаще всего ДТП в Московской и Кировской области встречаются с пятницы по понедельник. Самые пиковые дни - Пятница и Суббота"
   ]
  },
  {
   "cell_type": "code",
   "execution_count": 54,
   "metadata": {},
   "outputs": [
    {
     "data": {
      "text/html": [
       "<div>\n",
       "<style scoped>\n",
       "    .dataframe tbody tr th:only-of-type {\n",
       "        vertical-align: middle;\n",
       "    }\n",
       "\n",
       "    .dataframe tbody tr th {\n",
       "        vertical-align: top;\n",
       "    }\n",
       "\n",
       "    .dataframe thead th {\n",
       "        text-align: right;\n",
       "    }\n",
       "</style>\n",
       "<table border=\"1\" class=\"dataframe\">\n",
       "  <thead>\n",
       "    <tr style=\"text-align: right;\">\n",
       "      <th></th>\n",
       "      <th>month</th>\n",
       "      <th>kirov_obl</th>\n",
       "      <th>moscow_obl</th>\n",
       "    </tr>\n",
       "  </thead>\n",
       "  <tbody>\n",
       "    <tr>\n",
       "      <th>0</th>\n",
       "      <td>Jan</td>\n",
       "      <td>1069</td>\n",
       "      <td>3254</td>\n",
       "    </tr>\n",
       "    <tr>\n",
       "      <th>1</th>\n",
       "      <td>Feb</td>\n",
       "      <td>808</td>\n",
       "      <td>2744</td>\n",
       "    </tr>\n",
       "    <tr>\n",
       "      <th>2</th>\n",
       "      <td>Mar</td>\n",
       "      <td>799</td>\n",
       "      <td>2880</td>\n",
       "    </tr>\n",
       "    <tr>\n",
       "      <th>3</th>\n",
       "      <td>Apr</td>\n",
       "      <td>875</td>\n",
       "      <td>3172</td>\n",
       "    </tr>\n",
       "    <tr>\n",
       "      <th>4</th>\n",
       "      <td>May</td>\n",
       "      <td>1189</td>\n",
       "      <td>3992</td>\n",
       "    </tr>\n",
       "    <tr>\n",
       "      <th>5</th>\n",
       "      <td>Jun</td>\n",
       "      <td>1421</td>\n",
       "      <td>4354</td>\n",
       "    </tr>\n",
       "    <tr>\n",
       "      <th>6</th>\n",
       "      <td>Jul</td>\n",
       "      <td>1635</td>\n",
       "      <td>4401</td>\n",
       "    </tr>\n",
       "    <tr>\n",
       "      <th>7</th>\n",
       "      <td>Aug</td>\n",
       "      <td>1654</td>\n",
       "      <td>4787</td>\n",
       "    </tr>\n",
       "    <tr>\n",
       "      <th>8</th>\n",
       "      <td>Sep</td>\n",
       "      <td>1370</td>\n",
       "      <td>4571</td>\n",
       "    </tr>\n",
       "    <tr>\n",
       "      <th>9</th>\n",
       "      <td>Oct</td>\n",
       "      <td>1333</td>\n",
       "      <td>4113</td>\n",
       "    </tr>\n",
       "    <tr>\n",
       "      <th>10</th>\n",
       "      <td>Nov</td>\n",
       "      <td>1200</td>\n",
       "      <td>3618</td>\n",
       "    </tr>\n",
       "    <tr>\n",
       "      <th>11</th>\n",
       "      <td>Dec</td>\n",
       "      <td>1164</td>\n",
       "      <td>3732</td>\n",
       "    </tr>\n",
       "  </tbody>\n",
       "</table>\n",
       "</div>"
      ],
      "text/plain": [
       "   month  kirov_obl  moscow_obl\n",
       "0    Jan       1069        3254\n",
       "1    Feb        808        2744\n",
       "2    Mar        799        2880\n",
       "3    Apr        875        3172\n",
       "4    May       1189        3992\n",
       "5    Jun       1421        4354\n",
       "6    Jul       1635        4401\n",
       "7    Aug       1654        4787\n",
       "8    Sep       1370        4571\n",
       "9    Oct       1333        4113\n",
       "10   Nov       1200        3618\n",
       "11   Dec       1164        3732"
      ]
     },
     "execution_count": 54,
     "metadata": {},
     "output_type": "execute_result"
    }
   ],
   "source": [
    "# Проведем группировку по необходимым дням и ищем ДТП по месяцам\n",
    "kirov_by_day = kirov_df.groupby('month')['id'].agg('count').reset_index()\n",
    "moscow_by_day = moscow_df.groupby('month')['id'].agg('count').reset_index()\n",
    "\n",
    "merged_df = pd.merge(kirov_by_day, moscow_by_day, on='month', how='inner')\n",
    "\n",
    "day_map = {\n",
    "    1: 'Jan',\n",
    "    2: 'Feb',\n",
    "    3: 'Mar',\n",
    "    4: 'Apr',\n",
    "    5: 'May',\n",
    "    6: 'Jun',\n",
    "    7: 'Jul',\n",
    "    8: 'Aug',\n",
    "    9: 'Sep',\n",
    "    10: 'Oct',\n",
    "    11: 'Nov',\n",
    "    12: 'Dec'\n",
    "}\n",
    "merged_df['month_name'] = merged_df['month'].map(day_map)\n",
    "merged_df = merged_df.drop(columns=['month'])\n",
    "merged_df.insert(0, 'month', merged_df['month_name'])\n",
    "merged_df.drop(columns=['month_name']).rename(columns={'id_x': 'kirov_obl', 'id_y': 'moscow_obl'})"
   ]
  },
  {
   "cell_type": "markdown",
   "metadata": {},
   "source": [
    "* Чаще всего ДТП происходят в Летний период в Кировской области - Июль и Август. В Московской области с Июля по Сентябрь."
   ]
  },
  {
   "cell_type": "markdown",
   "metadata": {
    "id": "xcu4WsEoCGog"
   },
   "source": [
    "### Категории водителей по стажу. Встречаются ли категории, которые разительно отличаются по числу ДТП"
   ]
  },
  {
   "cell_type": "code",
   "execution_count": 55,
   "metadata": {
    "scrolled": true
   },
   "outputs": [
    {
     "data": {
      "text/plain": [
       "69.0"
      ]
     },
     "execution_count": 55,
     "metadata": {},
     "output_type": "execute_result"
    }
   ],
   "source": [
    "moscow_partic_df['years_of_driving_experience'].max()"
   ]
  },
  {
   "cell_type": "code",
   "execution_count": 56,
   "metadata": {},
   "outputs": [],
   "source": [
    "# Сделаем срез и получим данные только по водителям\n",
    "kirov_partic_driver_df = kirov_partic_df[kirov_partic_df['role'] == 'Водитель']\n",
    "moscow_partic_driver_df = moscow_partic_df[moscow_partic_df['role'] == 'Водитель']"
   ]
  },
  {
   "cell_type": "code",
   "execution_count": 141,
   "metadata": {},
   "outputs": [],
   "source": [
    "# СОздаем новый столбец со стажем вождения\n",
    "df_list = [kirov_partic_driver_df, moscow_partic_driver_df]\n",
    "for df in df_list:\n",
    "    df['rank_category'] = pd.cut(df['years_of_driving_experience'], bins=[0, 10, 20, 30, 40, 50, 60, 70], labels=['0-10', '11-20', '21-30', '31-40', '41-50', '51-60', '61+'])"
   ]
  },
  {
   "cell_type": "code",
   "execution_count": 65,
   "metadata": {},
   "outputs": [
    {
     "data": {
      "text/html": [
       "<div>\n",
       "<style scoped>\n",
       "    .dataframe tbody tr th:only-of-type {\n",
       "        vertical-align: middle;\n",
       "    }\n",
       "\n",
       "    .dataframe tbody tr th {\n",
       "        vertical-align: top;\n",
       "    }\n",
       "\n",
       "    .dataframe thead th {\n",
       "        text-align: right;\n",
       "    }\n",
       "</style>\n",
       "<table border=\"1\" class=\"dataframe\">\n",
       "  <thead>\n",
       "    <tr style=\"text-align: right;\">\n",
       "      <th></th>\n",
       "      <th>rank_category</th>\n",
       "      <th>kirov_obl</th>\n",
       "      <th>moscow_obl</th>\n",
       "    </tr>\n",
       "  </thead>\n",
       "  <tbody>\n",
       "    <tr>\n",
       "      <th>0</th>\n",
       "      <td>0-10</td>\n",
       "      <td>6771</td>\n",
       "      <td>23772</td>\n",
       "    </tr>\n",
       "    <tr>\n",
       "      <th>1</th>\n",
       "      <td>11-20</td>\n",
       "      <td>5049</td>\n",
       "      <td>19122</td>\n",
       "    </tr>\n",
       "    <tr>\n",
       "      <th>2</th>\n",
       "      <td>21-30</td>\n",
       "      <td>2724</td>\n",
       "      <td>10011</td>\n",
       "    </tr>\n",
       "    <tr>\n",
       "      <th>3</th>\n",
       "      <td>31-40</td>\n",
       "      <td>1618</td>\n",
       "      <td>4764</td>\n",
       "    </tr>\n",
       "    <tr>\n",
       "      <th>4</th>\n",
       "      <td>41-50</td>\n",
       "      <td>629</td>\n",
       "      <td>1600</td>\n",
       "    </tr>\n",
       "    <tr>\n",
       "      <th>5</th>\n",
       "      <td>51-60</td>\n",
       "      <td>106</td>\n",
       "      <td>361</td>\n",
       "    </tr>\n",
       "    <tr>\n",
       "      <th>6</th>\n",
       "      <td>61+</td>\n",
       "      <td>12</td>\n",
       "      <td>49</td>\n",
       "    </tr>\n",
       "  </tbody>\n",
       "</table>\n",
       "</div>"
      ],
      "text/plain": [
       "  rank_category  kirov_obl  moscow_obl\n",
       "0          0-10       6771       23772\n",
       "1         11-20       5049       19122\n",
       "2         21-30       2724       10011\n",
       "3         31-40       1618        4764\n",
       "4         41-50        629        1600\n",
       "5         51-60        106         361\n",
       "6           61+         12          49"
      ]
     },
     "execution_count": 65,
     "metadata": {},
     "output_type": "execute_result"
    }
   ],
   "source": [
    "kirov_by_exp = kirov_partic_driver_df.groupby('rank_category')['id'].agg('count').reset_index()\n",
    "moscow_by_exp = moscow_partic_driver_df.groupby('rank_category')['id'].agg('count').reset_index()\n",
    "\n",
    "merged_df = pd.merge(kirov_by_exp, moscow_by_exp, on='rank_category', how='inner')\n",
    "merged_df.rename(columns={'id_x': 'kirov_obl', 'id_y': 'moscow_obl'})"
   ]
  },
  {
   "cell_type": "markdown",
   "metadata": {},
   "source": [
    "* Кол-во ДТП для Кировской и Московской области уменьшается с увеличением стажа.  Важно учитывать, какое число водителей есть в каждом сегменте, однако таких сведений у нас нет."
   ]
  },
  {
   "cell_type": "markdown",
   "metadata": {
    "id": "muKT0SVzGKtA"
   },
   "source": [
    "### Как менялось число аварий в Кировской (Киров входит в численность) и Московской области (Москва исключена). Где аварий больше в относительном выражении — в пересчёте на 100 тысяч жителей"
   ]
  },
  {
   "cell_type": "code",
   "execution_count": 81,
   "metadata": {},
   "outputs": [
    {
     "data": {
      "text/plain": [
       "Timestamp('2024-08-31 18:43:00')"
      ]
     },
     "execution_count": 81,
     "metadata": {},
     "output_type": "execute_result"
    }
   ],
   "source": [
    "kirov_df['datetime'].max()"
   ]
  },
  {
   "cell_type": "markdown",
   "metadata": {},
   "source": [
    "Данные в датафреймах за 2024 год не являются полными. Исключим данный год из рассчетов"
   ]
  },
  {
   "cell_type": "code",
   "execution_count": 74,
   "metadata": {},
   "outputs": [],
   "source": [
    "# Словарь с населением Кировской области\n",
    "kirov_people_count = {\n",
    "2015: 1304348,\n",
    "2016: 1297474,\n",
    "2017: 1291684,\n",
    "2018: 1283238,\n",
    "2019: 1272109,\n",
    "2020: 1262402,\n",
    "2021: 1153680,\n",
    "2022: 1149176,\n",
    "2023: 1138112\n",
    "}"
   ]
  },
  {
   "cell_type": "code",
   "execution_count": 75,
   "metadata": {},
   "outputs": [],
   "source": [
    "# Словарь с населением Московской области\n",
    "moscow_people_count = {\n",
    "2015: 7231068,\n",
    "2016: 7318647,\n",
    "2017: 7423470,\n",
    "2018: 7503385,\n",
    "2019: 7599647,\n",
    "2020: 7690863,\n",
    "2021: 8524665,\n",
    "2022: 8542257,\n",
    "2023: 8591736\n",
    "}"
   ]
  },
  {
   "cell_type": "code",
   "execution_count": 136,
   "metadata": {},
   "outputs": [],
   "source": [
    "def per_people(row, people_dict):\n",
    "    year = row['year']\n",
    "    peoples = people_dict[year]\n",
    "    return round(row['accidents'] * 100000 / peoples,1)"
   ]
  },
  {
   "cell_type": "code",
   "execution_count": 137,
   "metadata": {},
   "outputs": [
    {
     "data": {
      "text/html": [
       "<div>\n",
       "<style scoped>\n",
       "    .dataframe tbody tr th:only-of-type {\n",
       "        vertical-align: middle;\n",
       "    }\n",
       "\n",
       "    .dataframe tbody tr th {\n",
       "        vertical-align: top;\n",
       "    }\n",
       "\n",
       "    .dataframe thead th {\n",
       "        text-align: right;\n",
       "    }\n",
       "</style>\n",
       "<table border=\"1\" class=\"dataframe\">\n",
       "  <thead>\n",
       "    <tr style=\"text-align: right;\">\n",
       "      <th></th>\n",
       "      <th>year</th>\n",
       "      <th>accidents</th>\n",
       "      <th>accidents_per_100k</th>\n",
       "    </tr>\n",
       "  </thead>\n",
       "  <tbody>\n",
       "    <tr>\n",
       "      <th>0</th>\n",
       "      <td>2015</td>\n",
       "      <td>1532</td>\n",
       "      <td>117.5</td>\n",
       "    </tr>\n",
       "    <tr>\n",
       "      <th>1</th>\n",
       "      <td>2016</td>\n",
       "      <td>1468</td>\n",
       "      <td>113.1</td>\n",
       "    </tr>\n",
       "    <tr>\n",
       "      <th>2</th>\n",
       "      <td>2017</td>\n",
       "      <td>1452</td>\n",
       "      <td>112.4</td>\n",
       "    </tr>\n",
       "    <tr>\n",
       "      <th>3</th>\n",
       "      <td>2018</td>\n",
       "      <td>1612</td>\n",
       "      <td>125.6</td>\n",
       "    </tr>\n",
       "    <tr>\n",
       "      <th>4</th>\n",
       "      <td>2019</td>\n",
       "      <td>1568</td>\n",
       "      <td>123.3</td>\n",
       "    </tr>\n",
       "    <tr>\n",
       "      <th>5</th>\n",
       "      <td>2020</td>\n",
       "      <td>1498</td>\n",
       "      <td>118.7</td>\n",
       "    </tr>\n",
       "    <tr>\n",
       "      <th>6</th>\n",
       "      <td>2021</td>\n",
       "      <td>1524</td>\n",
       "      <td>132.1</td>\n",
       "    </tr>\n",
       "    <tr>\n",
       "      <th>7</th>\n",
       "      <td>2022</td>\n",
       "      <td>1386</td>\n",
       "      <td>120.6</td>\n",
       "    </tr>\n",
       "    <tr>\n",
       "      <th>8</th>\n",
       "      <td>2023</td>\n",
       "      <td>1486</td>\n",
       "      <td>130.6</td>\n",
       "    </tr>\n",
       "  </tbody>\n",
       "</table>\n",
       "</div>"
      ],
      "text/plain": [
       "   year  accidents  accidents_per_100k\n",
       "0  2015       1532               117.5\n",
       "1  2016       1468               113.1\n",
       "2  2017       1452               112.4\n",
       "3  2018       1612               125.6\n",
       "4  2019       1568               123.3\n",
       "5  2020       1498               118.7\n",
       "6  2021       1524               132.1\n",
       "7  2022       1386               120.6\n",
       "8  2023       1486               130.6"
      ]
     },
     "execution_count": 137,
     "metadata": {},
     "output_type": "execute_result"
    }
   ],
   "source": [
    "# Расчитываем аварии на 100 тыс жителей по годам в кировской области\n",
    "kirov_by_year = kirov_df.groupby('year')['id'].agg('count').reset_index(name='accidents')\n",
    "\n",
    "kirov_by_year['accidents_per_100k'] = kirov_by_year.apply(lambda x: per_people(x, kirov_people_count), axis=1)\n",
    "kirov_by_year[kirov_by_year['year'] != 2024]"
   ]
  },
  {
   "cell_type": "markdown",
   "metadata": {},
   "source": [
    "* В Кировской области кол-во ДТП на 100 тыс жителей растет в последние годы.\n",
    "* Максимальное значение 132.1 было в 2021 году"
   ]
  },
  {
   "cell_type": "code",
   "execution_count": 138,
   "metadata": {},
   "outputs": [
    {
     "data": {
      "text/html": [
       "<div>\n",
       "<style scoped>\n",
       "    .dataframe tbody tr th:only-of-type {\n",
       "        vertical-align: middle;\n",
       "    }\n",
       "\n",
       "    .dataframe tbody tr th {\n",
       "        vertical-align: top;\n",
       "    }\n",
       "\n",
       "    .dataframe thead th {\n",
       "        text-align: right;\n",
       "    }\n",
       "</style>\n",
       "<table border=\"1\" class=\"dataframe\">\n",
       "  <thead>\n",
       "    <tr style=\"text-align: right;\">\n",
       "      <th></th>\n",
       "      <th>year</th>\n",
       "      <th>accidents</th>\n",
       "      <th>accidents_per_100k</th>\n",
       "    </tr>\n",
       "  </thead>\n",
       "  <tbody>\n",
       "    <tr>\n",
       "      <th>0</th>\n",
       "      <td>2015</td>\n",
       "      <td>6643</td>\n",
       "      <td>91.9</td>\n",
       "    </tr>\n",
       "    <tr>\n",
       "      <th>1</th>\n",
       "      <td>2016</td>\n",
       "      <td>5794</td>\n",
       "      <td>79.2</td>\n",
       "    </tr>\n",
       "    <tr>\n",
       "      <th>2</th>\n",
       "      <td>2017</td>\n",
       "      <td>5747</td>\n",
       "      <td>77.4</td>\n",
       "    </tr>\n",
       "    <tr>\n",
       "      <th>3</th>\n",
       "      <td>2018</td>\n",
       "      <td>5102</td>\n",
       "      <td>68.0</td>\n",
       "    </tr>\n",
       "    <tr>\n",
       "      <th>4</th>\n",
       "      <td>2019</td>\n",
       "      <td>5111</td>\n",
       "      <td>67.3</td>\n",
       "    </tr>\n",
       "    <tr>\n",
       "      <th>5</th>\n",
       "      <td>2020</td>\n",
       "      <td>4216</td>\n",
       "      <td>54.8</td>\n",
       "    </tr>\n",
       "    <tr>\n",
       "      <th>6</th>\n",
       "      <td>2021</td>\n",
       "      <td>3898</td>\n",
       "      <td>45.7</td>\n",
       "    </tr>\n",
       "    <tr>\n",
       "      <th>7</th>\n",
       "      <td>2022</td>\n",
       "      <td>3353</td>\n",
       "      <td>39.3</td>\n",
       "    </tr>\n",
       "    <tr>\n",
       "      <th>8</th>\n",
       "      <td>2023</td>\n",
       "      <td>3372</td>\n",
       "      <td>39.2</td>\n",
       "    </tr>\n",
       "  </tbody>\n",
       "</table>\n",
       "</div>"
      ],
      "text/plain": [
       "   year  accidents  accidents_per_100k\n",
       "0  2015       6643                91.9\n",
       "1  2016       5794                79.2\n",
       "2  2017       5747                77.4\n",
       "3  2018       5102                68.0\n",
       "4  2019       5111                67.3\n",
       "5  2020       4216                54.8\n",
       "6  2021       3898                45.7\n",
       "7  2022       3353                39.3\n",
       "8  2023       3372                39.2"
      ]
     },
     "execution_count": 138,
     "metadata": {},
     "output_type": "execute_result"
    }
   ],
   "source": [
    "# Расчитываем аварии на 100 тыс жителей по годам в мос. области\n",
    "moscow_by_year = moscow_df.groupby('year')['id'].agg('count').reset_index(name='accidents')\n",
    "\n",
    "moscow_by_year['accidents_per_100k'] = moscow_by_year.apply(lambda x: per_people(x, moscow_people_count), axis=1)\n",
    "moscow_by_year[moscow_by_year['year'] != 2024]"
   ]
  },
  {
   "cell_type": "markdown",
   "metadata": {},
   "source": [
    "* В Московской области кол-во ДТП на 100 тыс жителей уменьшается из года в год.\n",
    "* Максимальное значение 91.9 было в 2015 году\n",
    "* В Московской области меньше ДТП на 100 тыс жителей"
   ]
  },
  {
   "cell_type": "markdown",
   "metadata": {
    "id": "mk1hihKDgKC3"
   },
   "source": [
    "# Итоговые выводы:"
   ]
  },
  {
   "cell_type": "markdown",
   "metadata": {},
   "source": [
    "**Рекомендации заказчику:**\n",
    "* Дубликатов в датафреймах не найдено, продолжать в том же духе\n",
    "* Сделать обязательным заполнение всех столбцов зашлушками ('Нет данных', 'Права отсутствуют' и т.п.) для корректного анализа в дальнейшем.\n",
    "\n",
    "**Общие выводы:**\n",
    "* В Московской области кол-во ДТП на 100 тыс жителей уменьшается из года в год.\n",
    "* В Кировской области кол-во ДТП на 100 тыс жителей растет в последние годы.\n",
    "* В Московской области меньше ДТП на 100 тыс жителей, чем в Кировской области\n",
    "* Кол-во ДТП для Кировской и Московской области уменьшается с увеличением стажа. Важно учитывать, какое число водителей есть в каждом сегменте, однако таких сведений у нас нет.\n",
    "* Чаще всего ДТП происходят в Летний период в Кировской области - Июль и Август, а в Московской области с Июля по Сентябрь."
   ]
  }
 ],
 "metadata": {
  "ExecuteTimeLog": [
   {
    "duration": 3311,
    "start_time": "2025-08-31T09:28:45.861Z"
   },
   {
    "duration": 1449,
    "start_time": "2025-08-31T09:28:54.339Z"
   },
   {
    "duration": 3,
    "start_time": "2025-08-31T09:29:09.204Z"
   },
   {
    "duration": 3755,
    "start_time": "2025-08-31T09:31:29.594Z"
   },
   {
    "duration": 24,
    "start_time": "2025-08-31T09:32:18.003Z"
   },
   {
    "duration": 34,
    "start_time": "2025-08-31T09:33:23.869Z"
   },
   {
    "duration": 24,
    "start_time": "2025-08-31T09:34:27.417Z"
   },
   {
    "duration": 76,
    "start_time": "2025-08-31T09:49:44.635Z"
   },
   {
    "duration": 19,
    "start_time": "2025-08-31T09:51:11.395Z"
   },
   {
    "duration": 127,
    "start_time": "2025-08-31T09:54:28.024Z"
   },
   {
    "duration": 21,
    "start_time": "2025-08-31T09:54:44.782Z"
   },
   {
    "duration": 17,
    "start_time": "2025-08-31T09:54:48.044Z"
   },
   {
    "duration": 26,
    "start_time": "2025-08-31T09:58:28.332Z"
   },
   {
    "duration": 12,
    "start_time": "2025-08-31T09:58:52.315Z"
   },
   {
    "duration": 26,
    "start_time": "2025-08-31T10:04:00.867Z"
   },
   {
    "duration": 35,
    "start_time": "2025-08-31T10:04:19.252Z"
   },
   {
    "duration": 15,
    "start_time": "2025-08-31T10:06:41.237Z"
   },
   {
    "duration": 91,
    "start_time": "2025-08-31T10:07:22.545Z"
   },
   {
    "duration": 3690,
    "start_time": "2025-08-31T10:08:15.464Z"
   },
   {
    "duration": 17,
    "start_time": "2025-08-31T10:09:30.686Z"
   },
   {
    "duration": 15,
    "start_time": "2025-08-31T10:10:13.957Z"
   },
   {
    "duration": 11,
    "start_time": "2025-08-31T10:10:20.609Z"
   },
   {
    "duration": 26,
    "start_time": "2025-08-31T10:16:52.633Z"
   },
   {
    "duration": 26,
    "start_time": "2025-08-31T10:17:03.854Z"
   },
   {
    "duration": 14,
    "start_time": "2025-08-31T10:17:18.960Z"
   },
   {
    "duration": 11,
    "start_time": "2025-08-31T10:17:24.255Z"
   },
   {
    "duration": 95,
    "start_time": "2025-08-31T10:24:39.000Z"
   },
   {
    "duration": 140,
    "start_time": "2025-08-31T10:24:43.375Z"
   },
   {
    "duration": 9,
    "start_time": "2025-08-31T10:24:49.253Z"
   },
   {
    "duration": 6,
    "start_time": "2025-08-31T10:25:37.543Z"
   },
   {
    "duration": 2588,
    "start_time": "2025-08-31T10:26:15.378Z"
   },
   {
    "duration": 1358,
    "start_time": "2025-08-31T10:26:17.969Z"
   },
   {
    "duration": 3348,
    "start_time": "2025-08-31T10:26:19.328Z"
   },
   {
    "duration": 22,
    "start_time": "2025-08-31T10:26:22.678Z"
   },
   {
    "duration": 24,
    "start_time": "2025-08-31T10:26:22.704Z"
   },
   {
    "duration": 67,
    "start_time": "2025-08-31T10:26:22.730Z"
   },
   {
    "duration": 17,
    "start_time": "2025-08-31T10:26:22.800Z"
   },
   {
    "duration": 39,
    "start_time": "2025-08-31T10:26:22.819Z"
   },
   {
    "duration": 28,
    "start_time": "2025-08-31T10:26:22.860Z"
   },
   {
    "duration": 29,
    "start_time": "2025-08-31T10:26:22.889Z"
   },
   {
    "duration": 10,
    "start_time": "2025-08-31T10:26:22.920Z"
   },
   {
    "duration": 55,
    "start_time": "2025-08-31T10:26:22.931Z"
   },
   {
    "duration": 14,
    "start_time": "2025-08-31T10:26:22.988Z"
   },
   {
    "duration": 104,
    "start_time": "2025-08-31T10:26:23.004Z"
   },
   {
    "duration": 10,
    "start_time": "2025-08-31T10:26:23.110Z"
   },
   {
    "duration": 5,
    "start_time": "2025-08-31T10:26:23.121Z"
   },
   {
    "duration": 7,
    "start_time": "2025-08-31T10:26:23.128Z"
   },
   {
    "duration": 5,
    "start_time": "2025-08-31T10:26:23.136Z"
   },
   {
    "duration": 7,
    "start_time": "2025-08-31T10:28:40.518Z"
   },
   {
    "duration": 4,
    "start_time": "2025-08-31T10:29:03.402Z"
   },
   {
    "duration": 4,
    "start_time": "2025-08-31T10:29:05.457Z"
   },
   {
    "duration": 7,
    "start_time": "2025-08-31T10:29:55.465Z"
   },
   {
    "duration": 28,
    "start_time": "2025-08-31T10:34:06.506Z"
   },
   {
    "duration": 16,
    "start_time": "2025-08-31T10:34:21.213Z"
   },
   {
    "duration": 17,
    "start_time": "2025-08-31T10:34:47.245Z"
   },
   {
    "duration": 19,
    "start_time": "2025-08-31T10:34:56.842Z"
   },
   {
    "duration": 16,
    "start_time": "2025-08-31T10:35:00.164Z"
   },
   {
    "duration": 693,
    "start_time": "2025-08-31T10:37:49.141Z"
   },
   {
    "duration": 22,
    "start_time": "2025-08-31T10:39:22.853Z"
   },
   {
    "duration": 32,
    "start_time": "2025-08-31T10:39:43.452Z"
   },
   {
    "duration": 33,
    "start_time": "2025-08-31T10:42:05.227Z"
   },
   {
    "duration": 30,
    "start_time": "2025-08-31T10:42:10.224Z"
   },
   {
    "duration": 705,
    "start_time": "2025-08-31T10:43:19.528Z"
   },
   {
    "duration": 30,
    "start_time": "2025-08-31T10:43:34.723Z"
   },
   {
    "duration": 125,
    "start_time": "2025-08-31T10:45:49.613Z"
   },
   {
    "duration": 12,
    "start_time": "2025-08-31T10:45:53.575Z"
   },
   {
    "duration": 8,
    "start_time": "2025-08-31T10:46:22.838Z"
   },
   {
    "duration": 20,
    "start_time": "2025-08-31T10:46:31.451Z"
   },
   {
    "duration": 15,
    "start_time": "2025-08-31T10:47:24.184Z"
   },
   {
    "duration": 10,
    "start_time": "2025-08-31T10:52:10.468Z"
   },
   {
    "duration": 15,
    "start_time": "2025-08-31T10:52:40.032Z"
   },
   {
    "duration": 10,
    "start_time": "2025-08-31T10:53:51.187Z"
   },
   {
    "duration": 18,
    "start_time": "2025-08-31T10:54:04.813Z"
   },
   {
    "duration": 16,
    "start_time": "2025-08-31T10:54:18.037Z"
   },
   {
    "duration": 13,
    "start_time": "2025-08-31T10:54:46.606Z"
   },
   {
    "duration": 12,
    "start_time": "2025-08-31T10:56:36.897Z"
   },
   {
    "duration": 14,
    "start_time": "2025-08-31T10:56:48.848Z"
   },
   {
    "duration": 16,
    "start_time": "2025-08-31T10:58:28.654Z"
   },
   {
    "duration": 33,
    "start_time": "2025-08-31T11:01:02.465Z"
   },
   {
    "duration": 1554,
    "start_time": "2025-08-31T11:04:41.800Z"
   },
   {
    "duration": 1400,
    "start_time": "2025-08-31T11:04:43.783Z"
   },
   {
    "duration": 32,
    "start_time": "2025-08-31T11:04:46.417Z"
   },
   {
    "duration": 12,
    "start_time": "2025-08-31T11:05:33.536Z"
   },
   {
    "duration": 17,
    "start_time": "2025-08-31T11:08:08.484Z"
   },
   {
    "duration": 14,
    "start_time": "2025-08-31T11:08:19.082Z"
   },
   {
    "duration": 17,
    "start_time": "2025-08-31T11:08:42.971Z"
   },
   {
    "duration": 17,
    "start_time": "2025-08-31T11:09:46.360Z"
   },
   {
    "duration": 11,
    "start_time": "2025-08-31T11:10:11.058Z"
   },
   {
    "duration": 19,
    "start_time": "2025-08-31T11:12:09.056Z"
   },
   {
    "duration": 19,
    "start_time": "2025-08-31T11:12:47.179Z"
   },
   {
    "duration": 21,
    "start_time": "2025-08-31T11:13:38.995Z"
   },
   {
    "duration": 17,
    "start_time": "2025-08-31T11:13:42.910Z"
   },
   {
    "duration": 13,
    "start_time": "2025-08-31T11:14:00.723Z"
   },
   {
    "duration": 254,
    "start_time": "2025-08-31T11:14:44.412Z"
   },
   {
    "duration": 20,
    "start_time": "2025-08-31T11:15:15.281Z"
   },
   {
    "duration": 34,
    "start_time": "2025-08-31T11:16:24.096Z"
   },
   {
    "duration": 36,
    "start_time": "2025-08-31T11:16:49.182Z"
   },
   {
    "duration": 28,
    "start_time": "2025-08-31T11:17:03.734Z"
   },
   {
    "duration": 35,
    "start_time": "2025-08-31T11:17:30.023Z"
   },
   {
    "duration": 85,
    "start_time": "2025-08-31T11:18:30.696Z"
   },
   {
    "duration": 12,
    "start_time": "2025-08-31T11:18:33.952Z"
   },
   {
    "duration": 16,
    "start_time": "2025-08-31T11:18:42.285Z"
   },
   {
    "duration": 35,
    "start_time": "2025-08-31T11:19:01.290Z"
   },
   {
    "duration": 10,
    "start_time": "2025-08-31T11:19:58.815Z"
   },
   {
    "duration": 15,
    "start_time": "2025-08-31T11:25:18.010Z"
   },
   {
    "duration": 6,
    "start_time": "2025-08-31T11:29:29.400Z"
   },
   {
    "duration": 11,
    "start_time": "2025-08-31T11:29:35.681Z"
   },
   {
    "duration": 7,
    "start_time": "2025-08-31T11:29:39.736Z"
   },
   {
    "duration": 18,
    "start_time": "2025-08-31T11:30:11.093Z"
   },
   {
    "duration": 30,
    "start_time": "2025-08-31T11:34:53.079Z"
   },
   {
    "duration": 27,
    "start_time": "2025-08-31T11:35:46.248Z"
   },
   {
    "duration": 27,
    "start_time": "2025-08-31T11:36:06.349Z"
   },
   {
    "duration": 31,
    "start_time": "2025-08-31T11:36:32.201Z"
   },
   {
    "duration": 27,
    "start_time": "2025-08-31T11:39:23.765Z"
   },
   {
    "duration": 684,
    "start_time": "2025-08-31T11:39:53.520Z"
   },
   {
    "duration": 14,
    "start_time": "2025-08-31T11:41:09.336Z"
   },
   {
    "duration": 13,
    "start_time": "2025-08-31T11:41:16.485Z"
   },
   {
    "duration": 10,
    "start_time": "2025-08-31T11:41:23.333Z"
   },
   {
    "duration": 13,
    "start_time": "2025-08-31T11:41:39.276Z"
   },
   {
    "duration": 11,
    "start_time": "2025-08-31T11:41:49.761Z"
   },
   {
    "duration": 545,
    "start_time": "2025-08-31T11:41:58.186Z"
   },
   {
    "duration": 629,
    "start_time": "2025-08-31T11:42:09.153Z"
   },
   {
    "duration": 26,
    "start_time": "2025-08-31T11:43:09.676Z"
   },
   {
    "duration": 30,
    "start_time": "2025-08-31T11:43:35.316Z"
   },
   {
    "duration": 25,
    "start_time": "2025-08-31T11:43:44.316Z"
   },
   {
    "duration": 25,
    "start_time": "2025-08-31T11:44:06.034Z"
   },
   {
    "duration": 20,
    "start_time": "2025-08-31T11:56:24.998Z"
   },
   {
    "duration": 34,
    "start_time": "2025-08-31T11:57:49.586Z"
   },
   {
    "duration": 13,
    "start_time": "2025-08-31T11:58:01.570Z"
   },
   {
    "duration": 10,
    "start_time": "2025-08-31T11:58:19.275Z"
   },
   {
    "duration": 3,
    "start_time": "2025-08-31T11:58:53.159Z"
   },
   {
    "duration": 12,
    "start_time": "2025-08-31T12:10:26.516Z"
   },
   {
    "duration": 33,
    "start_time": "2025-08-31T12:11:30.170Z"
   },
   {
    "duration": 10,
    "start_time": "2025-08-31T12:11:59.972Z"
   },
   {
    "duration": 5,
    "start_time": "2025-08-31T12:12:06.313Z"
   },
   {
    "duration": 12,
    "start_time": "2025-08-31T12:12:17.388Z"
   },
   {
    "duration": 5,
    "start_time": "2025-08-31T12:12:36.492Z"
   },
   {
    "duration": 54,
    "start_time": "2025-08-31T12:14:08.543Z"
   },
   {
    "duration": 54,
    "start_time": "2025-08-31T12:14:22.914Z"
   },
   {
    "duration": 51,
    "start_time": "2025-08-31T12:14:47.231Z"
   },
   {
    "duration": 5,
    "start_time": "2025-08-31T12:15:15.508Z"
   },
   {
    "duration": 23,
    "start_time": "2025-08-31T12:16:16.200Z"
   },
   {
    "duration": 7,
    "start_time": "2025-08-31T12:16:31.841Z"
   },
   {
    "duration": 6,
    "start_time": "2025-08-31T12:16:43.473Z"
   },
   {
    "duration": 11,
    "start_time": "2025-08-31T12:16:49.645Z"
   },
   {
    "duration": 7,
    "start_time": "2025-08-31T12:17:01.765Z"
   },
   {
    "duration": 24,
    "start_time": "2025-08-31T12:18:04.042Z"
   },
   {
    "duration": 20,
    "start_time": "2025-08-31T12:18:17.406Z"
   },
   {
    "duration": 40,
    "start_time": "2025-08-31T12:18:27.347Z"
   },
   {
    "duration": 32,
    "start_time": "2025-08-31T12:20:27.565Z"
   },
   {
    "duration": 19,
    "start_time": "2025-08-31T12:20:56.688Z"
   },
   {
    "duration": 31,
    "start_time": "2025-08-31T12:21:06.996Z"
   },
   {
    "duration": 29,
    "start_time": "2025-08-31T12:21:16.499Z"
   },
   {
    "duration": 30,
    "start_time": "2025-08-31T12:22:41.678Z"
   },
   {
    "duration": 22,
    "start_time": "2025-08-31T12:23:01.644Z"
   },
   {
    "duration": 55,
    "start_time": "2025-08-31T12:23:17.831Z"
   },
   {
    "duration": 48,
    "start_time": "2025-08-31T12:23:31.795Z"
   },
   {
    "duration": 87,
    "start_time": "2025-08-31T12:25:06.262Z"
   },
   {
    "duration": 19,
    "start_time": "2025-08-31T12:25:39.208Z"
   },
   {
    "duration": 24,
    "start_time": "2025-08-31T12:27:03.563Z"
   },
   {
    "duration": 5,
    "start_time": "2025-08-31T12:27:24.960Z"
   },
   {
    "duration": 11,
    "start_time": "2025-08-31T12:29:45.182Z"
   },
   {
    "duration": 18,
    "start_time": "2025-08-31T13:03:32.451Z"
   },
   {
    "duration": 2571,
    "start_time": "2025-08-31T13:03:44.542Z"
   },
   {
    "duration": 1225,
    "start_time": "2025-08-31T13:03:47.116Z"
   },
   {
    "duration": 3213,
    "start_time": "2025-08-31T13:03:48.343Z"
   },
   {
    "duration": 25,
    "start_time": "2025-08-31T13:03:51.558Z"
   },
   {
    "duration": 20,
    "start_time": "2025-08-31T13:03:51.585Z"
   },
   {
    "duration": 35,
    "start_time": "2025-08-31T13:03:51.606Z"
   },
   {
    "duration": 41,
    "start_time": "2025-08-31T13:03:51.643Z"
   },
   {
    "duration": 25,
    "start_time": "2025-08-31T13:03:51.685Z"
   },
   {
    "duration": 10,
    "start_time": "2025-08-31T13:03:51.712Z"
   },
   {
    "duration": 47,
    "start_time": "2025-08-31T13:03:51.724Z"
   },
   {
    "duration": 10,
    "start_time": "2025-08-31T13:03:51.773Z"
   },
   {
    "duration": 13,
    "start_time": "2025-08-31T13:03:51.784Z"
   },
   {
    "duration": 9,
    "start_time": "2025-08-31T13:03:51.799Z"
   },
   {
    "duration": 22,
    "start_time": "2025-08-31T13:03:51.809Z"
   },
   {
    "duration": 39,
    "start_time": "2025-08-31T13:03:51.832Z"
   },
   {
    "duration": 4,
    "start_time": "2025-08-31T13:03:51.873Z"
   },
   {
    "duration": 11,
    "start_time": "2025-08-31T13:03:51.878Z"
   },
   {
    "duration": 12,
    "start_time": "2025-08-31T13:03:51.890Z"
   },
   {
    "duration": 16,
    "start_time": "2025-08-31T13:03:51.903Z"
   },
   {
    "duration": 17,
    "start_time": "2025-08-31T13:03:51.921Z"
   },
   {
    "duration": 686,
    "start_time": "2025-08-31T13:03:51.940Z"
   },
   {
    "duration": 14,
    "start_time": "2025-08-31T13:03:52.628Z"
   },
   {
    "duration": 31,
    "start_time": "2025-08-31T13:03:52.644Z"
   },
   {
    "duration": 13,
    "start_time": "2025-08-31T13:03:52.677Z"
   },
   {
    "duration": 16,
    "start_time": "2025-08-31T13:03:52.692Z"
   },
   {
    "duration": 586,
    "start_time": "2025-08-31T13:03:52.710Z"
   },
   {
    "duration": 14,
    "start_time": "2025-08-31T13:03:53.298Z"
   },
   {
    "duration": 122,
    "start_time": "2025-08-31T13:03:53.316Z"
   },
   {
    "duration": 0,
    "start_time": "2025-08-31T13:03:53.439Z"
   },
   {
    "duration": 0,
    "start_time": "2025-08-31T13:03:53.441Z"
   },
   {
    "duration": 0,
    "start_time": "2025-08-31T13:03:53.441Z"
   },
   {
    "duration": 0,
    "start_time": "2025-08-31T13:03:53.442Z"
   },
   {
    "duration": 0,
    "start_time": "2025-08-31T13:03:53.444Z"
   },
   {
    "duration": 0,
    "start_time": "2025-08-31T13:03:53.445Z"
   },
   {
    "duration": 0,
    "start_time": "2025-08-31T13:03:53.446Z"
   },
   {
    "duration": 0,
    "start_time": "2025-08-31T13:03:53.447Z"
   },
   {
    "duration": 0,
    "start_time": "2025-08-31T13:03:53.448Z"
   },
   {
    "duration": 0,
    "start_time": "2025-08-31T13:03:53.449Z"
   },
   {
    "duration": 0,
    "start_time": "2025-08-31T13:03:53.450Z"
   },
   {
    "duration": 0,
    "start_time": "2025-08-31T13:03:53.471Z"
   },
   {
    "duration": 71,
    "start_time": "2025-08-31T13:04:38.827Z"
   },
   {
    "duration": 10,
    "start_time": "2025-08-31T13:04:45.671Z"
   },
   {
    "duration": 23,
    "start_time": "2025-08-31T13:04:46.306Z"
   },
   {
    "duration": 4,
    "start_time": "2025-08-31T13:04:47.298Z"
   },
   {
    "duration": 4,
    "start_time": "2025-08-31T13:04:47.686Z"
   },
   {
    "duration": 12,
    "start_time": "2025-08-31T13:04:50.506Z"
   },
   {
    "duration": 12,
    "start_time": "2025-08-31T13:04:50.705Z"
   },
   {
    "duration": 501,
    "start_time": "2025-08-31T13:04:50.873Z"
   },
   {
    "duration": 25,
    "start_time": "2025-08-31T13:04:51.376Z"
   },
   {
    "duration": 5,
    "start_time": "2025-08-31T13:04:51.786Z"
   },
   {
    "duration": 7,
    "start_time": "2025-08-31T13:04:52.085Z"
   },
   {
    "duration": 40,
    "start_time": "2025-08-31T13:04:52.624Z"
   },
   {
    "duration": 11,
    "start_time": "2025-08-31T13:04:52.830Z"
   },
   {
    "duration": 20,
    "start_time": "2025-08-31T13:05:52.068Z"
   },
   {
    "duration": 5,
    "start_time": "2025-08-31T13:08:23.340Z"
   },
   {
    "duration": 14,
    "start_time": "2025-08-31T13:09:07.407Z"
   },
   {
    "duration": 4,
    "start_time": "2025-08-31T13:09:12.968Z"
   },
   {
    "duration": 11,
    "start_time": "2025-08-31T13:09:21.167Z"
   },
   {
    "duration": 11,
    "start_time": "2025-08-31T13:09:55.158Z"
   },
   {
    "duration": 10,
    "start_time": "2025-08-31T13:09:59.601Z"
   },
   {
    "duration": 5,
    "start_time": "2025-08-31T13:11:11.105Z"
   },
   {
    "duration": 80,
    "start_time": "2025-08-31T13:13:03.473Z"
   },
   {
    "duration": 98,
    "start_time": "2025-08-31T13:13:09.390Z"
   },
   {
    "duration": 11,
    "start_time": "2025-08-31T13:13:10.990Z"
   },
   {
    "duration": 11,
    "start_time": "2025-08-31T13:13:34.322Z"
   },
   {
    "duration": 12,
    "start_time": "2025-08-31T13:13:41.352Z"
   },
   {
    "duration": 5,
    "start_time": "2025-08-31T13:13:58.893Z"
   },
   {
    "duration": 11,
    "start_time": "2025-08-31T13:15:11.955Z"
   },
   {
    "duration": 17,
    "start_time": "2025-08-31T13:15:32.699Z"
   },
   {
    "duration": 16,
    "start_time": "2025-08-31T13:15:53.778Z"
   },
   {
    "duration": 16,
    "start_time": "2025-08-31T13:16:12.777Z"
   },
   {
    "duration": 8150,
    "start_time": "2025-08-31T13:17:30.302Z"
   },
   {
    "duration": 8664,
    "start_time": "2025-08-31T13:18:06.160Z"
   },
   {
    "duration": 16244,
    "start_time": "2025-08-31T13:19:12.800Z"
   },
   {
    "duration": 8404,
    "start_time": "2025-08-31T13:20:15.439Z"
   },
   {
    "duration": 8661,
    "start_time": "2025-08-31T13:20:59.479Z"
   },
   {
    "duration": 8539,
    "start_time": "2025-08-31T13:22:11.416Z"
   },
   {
    "duration": 8,
    "start_time": "2025-08-31T13:22:38.928Z"
   },
   {
    "duration": 8311,
    "start_time": "2025-08-31T13:22:41.255Z"
   },
   {
    "duration": 11,
    "start_time": "2025-08-31T13:23:42.165Z"
   },
   {
    "duration": 4,
    "start_time": "2025-08-31T13:23:47.033Z"
   },
   {
    "duration": 19,
    "start_time": "2025-08-31T13:24:06.279Z"
   },
   {
    "duration": 46,
    "start_time": "2025-08-31T16:52:47.310Z"
   },
   {
    "duration": 2904,
    "start_time": "2025-08-31T16:52:52.820Z"
   },
   {
    "duration": 1250,
    "start_time": "2025-08-31T16:52:55.726Z"
   },
   {
    "duration": 3390,
    "start_time": "2025-08-31T16:52:56.978Z"
   },
   {
    "duration": 19,
    "start_time": "2025-08-31T16:53:00.371Z"
   },
   {
    "duration": 95,
    "start_time": "2025-08-31T16:53:00.392Z"
   },
   {
    "duration": 60,
    "start_time": "2025-08-31T16:53:00.489Z"
   },
   {
    "duration": 16,
    "start_time": "2025-08-31T16:53:00.551Z"
   },
   {
    "duration": 19,
    "start_time": "2025-08-31T16:53:00.569Z"
   },
   {
    "duration": 9,
    "start_time": "2025-08-31T16:53:00.590Z"
   },
   {
    "duration": 25,
    "start_time": "2025-08-31T16:53:00.601Z"
   },
   {
    "duration": 14,
    "start_time": "2025-08-31T16:53:00.627Z"
   },
   {
    "duration": 80,
    "start_time": "2025-08-31T16:53:00.642Z"
   },
   {
    "duration": 10,
    "start_time": "2025-08-31T16:53:00.723Z"
   },
   {
    "duration": 23,
    "start_time": "2025-08-31T16:53:00.734Z"
   },
   {
    "duration": 14,
    "start_time": "2025-08-31T16:53:00.758Z"
   },
   {
    "duration": 6,
    "start_time": "2025-08-31T16:53:00.774Z"
   },
   {
    "duration": 79,
    "start_time": "2025-08-31T16:53:00.781Z"
   },
   {
    "duration": 12,
    "start_time": "2025-08-31T16:53:00.861Z"
   },
   {
    "duration": 15,
    "start_time": "2025-08-31T16:53:00.874Z"
   },
   {
    "duration": 16,
    "start_time": "2025-08-31T16:53:00.890Z"
   },
   {
    "duration": 730,
    "start_time": "2025-08-31T16:53:00.907Z"
   },
   {
    "duration": 11,
    "start_time": "2025-08-31T16:53:01.639Z"
   },
   {
    "duration": 20,
    "start_time": "2025-08-31T16:53:01.652Z"
   },
   {
    "duration": 42,
    "start_time": "2025-08-31T16:53:01.676Z"
   },
   {
    "duration": 23,
    "start_time": "2025-08-31T16:53:01.720Z"
   },
   {
    "duration": 546,
    "start_time": "2025-08-31T16:53:01.744Z"
   },
   {
    "duration": 11,
    "start_time": "2025-08-31T16:53:02.292Z"
   },
   {
    "duration": 78,
    "start_time": "2025-08-31T16:53:02.308Z"
   },
   {
    "duration": 28,
    "start_time": "2025-08-31T16:53:02.387Z"
   },
   {
    "duration": 80,
    "start_time": "2025-08-31T16:53:02.417Z"
   },
   {
    "duration": 7,
    "start_time": "2025-08-31T16:53:02.499Z"
   },
   {
    "duration": 7,
    "start_time": "2025-08-31T16:53:02.507Z"
   },
   {
    "duration": 55,
    "start_time": "2025-08-31T16:53:02.516Z"
   },
   {
    "duration": 18,
    "start_time": "2025-08-31T16:53:02.572Z"
   },
   {
    "duration": 467,
    "start_time": "2025-08-31T16:53:02.591Z"
   },
   {
    "duration": 34,
    "start_time": "2025-08-31T16:53:03.059Z"
   },
   {
    "duration": 97,
    "start_time": "2025-08-31T16:53:03.094Z"
   },
   {
    "duration": 17,
    "start_time": "2025-08-31T16:53:03.192Z"
   },
   {
    "duration": 73,
    "start_time": "2025-08-31T16:53:03.210Z"
   },
   {
    "duration": 8,
    "start_time": "2025-08-31T16:53:03.285Z"
   },
   {
    "duration": 93,
    "start_time": "2025-08-31T16:53:03.294Z"
   },
   {
    "duration": 79,
    "start_time": "2025-08-31T16:53:07.085Z"
   },
   {
    "duration": 29,
    "start_time": "2025-08-31T16:54:32.647Z"
   },
   {
    "duration": 19,
    "start_time": "2025-08-31T16:54:36.605Z"
   },
   {
    "duration": 17,
    "start_time": "2025-08-31T16:55:09.642Z"
   },
   {
    "duration": 80,
    "start_time": "2025-08-31T16:56:23.990Z"
   },
   {
    "duration": 105,
    "start_time": "2025-08-31T16:56:28.477Z"
   },
   {
    "duration": 114,
    "start_time": "2025-08-31T16:57:19.979Z"
   },
   {
    "duration": 26,
    "start_time": "2025-08-31T16:57:34.206Z"
   },
   {
    "duration": 28,
    "start_time": "2025-08-31T16:58:14.978Z"
   },
   {
    "duration": 26,
    "start_time": "2025-08-31T16:58:37.230Z"
   },
   {
    "duration": 14,
    "start_time": "2025-08-31T16:59:35.991Z"
   },
   {
    "duration": 26,
    "start_time": "2025-08-31T17:00:12.170Z"
   },
   {
    "duration": 28,
    "start_time": "2025-08-31T17:03:25.212Z"
   },
   {
    "duration": 28,
    "start_time": "2025-08-31T17:04:15.754Z"
   },
   {
    "duration": 27,
    "start_time": "2025-08-31T17:04:47.124Z"
   },
   {
    "duration": 6,
    "start_time": "2025-08-31T17:05:44.602Z"
   },
   {
    "duration": 14,
    "start_time": "2025-08-31T17:05:47.879Z"
   },
   {
    "duration": 3,
    "start_time": "2025-08-31T17:06:00.340Z"
   },
   {
    "duration": 3,
    "start_time": "2025-08-31T17:06:20.239Z"
   },
   {
    "duration": 98,
    "start_time": "2025-08-31T17:06:39.308Z"
   },
   {
    "duration": 9,
    "start_time": "2025-08-31T17:06:45.905Z"
   },
   {
    "duration": 7,
    "start_time": "2025-08-31T17:07:35.458Z"
   },
   {
    "duration": 1374,
    "start_time": "2025-08-31T17:10:27.098Z"
   },
   {
    "duration": 1356,
    "start_time": "2025-08-31T17:11:07.339Z"
   },
   {
    "duration": 16,
    "start_time": "2025-08-31T17:11:17.379Z"
   },
   {
    "duration": 5,
    "start_time": "2025-08-31T17:11:42.216Z"
   },
   {
    "duration": 4,
    "start_time": "2025-08-31T17:12:08.919Z"
   },
   {
    "duration": 12,
    "start_time": "2025-08-31T17:12:09.355Z"
   },
   {
    "duration": 3,
    "start_time": "2025-08-31T17:12:09.945Z"
   },
   {
    "duration": 19,
    "start_time": "2025-08-31T17:16:30.798Z"
   },
   {
    "duration": 8,
    "start_time": "2025-08-31T17:19:24.248Z"
   },
   {
    "duration": 5,
    "start_time": "2025-08-31T17:19:32.877Z"
   },
   {
    "duration": 4,
    "start_time": "2025-08-31T17:23:32.545Z"
   },
   {
    "duration": 16,
    "start_time": "2025-08-31T17:26:23.296Z"
   },
   {
    "duration": 99,
    "start_time": "2025-08-31T17:27:56.728Z"
   },
   {
    "duration": 38,
    "start_time": "2025-08-31T17:29:41.123Z"
   },
   {
    "duration": 55,
    "start_time": "2025-08-31T17:29:57.252Z"
   },
   {
    "duration": 45,
    "start_time": "2025-08-31T17:30:29.772Z"
   },
   {
    "duration": 47,
    "start_time": "2025-08-31T17:30:32.458Z"
   },
   {
    "duration": 3,
    "start_time": "2025-08-31T17:31:06.038Z"
   },
   {
    "duration": 18,
    "start_time": "2025-08-31T17:32:15.661Z"
   },
   {
    "duration": 39,
    "start_time": "2025-08-31T17:36:02.289Z"
   },
   {
    "duration": 39,
    "start_time": "2025-08-31T17:36:10.165Z"
   },
   {
    "duration": 18,
    "start_time": "2025-08-31T17:38:03.193Z"
   },
   {
    "duration": 4,
    "start_time": "2025-08-31T17:38:47.182Z"
   },
   {
    "duration": 16,
    "start_time": "2025-08-31T17:38:55.167Z"
   },
   {
    "duration": 3,
    "start_time": "2025-08-31T17:40:12.984Z"
   },
   {
    "duration": 42,
    "start_time": "2025-08-31T17:40:13.447Z"
   },
   {
    "duration": 27,
    "start_time": "2025-08-31T17:41:39.836Z"
   },
   {
    "duration": 742,
    "start_time": "2025-08-31T17:48:14.170Z"
   },
   {
    "duration": 25,
    "start_time": "2025-08-31T17:48:43.045Z"
   },
   {
    "duration": 29,
    "start_time": "2025-08-31T17:49:25.904Z"
   },
   {
    "duration": 9,
    "start_time": "2025-08-31T17:52:26.219Z"
   },
   {
    "duration": 9,
    "start_time": "2025-08-31T17:52:31.341Z"
   },
   {
    "duration": 4,
    "start_time": "2025-08-31T17:52:56.020Z"
   },
   {
    "duration": 11,
    "start_time": "2025-08-31T17:53:29.479Z"
   },
   {
    "duration": 15,
    "start_time": "2025-08-31T17:54:36.030Z"
   },
   {
    "duration": 10,
    "start_time": "2025-08-31T17:54:45.140Z"
   },
   {
    "duration": 11,
    "start_time": "2025-08-31T17:55:02.841Z"
   },
   {
    "duration": 37,
    "start_time": "2025-08-31T17:55:15.586Z"
   },
   {
    "duration": 17,
    "start_time": "2025-08-31T17:55:16.223Z"
   },
   {
    "duration": 14,
    "start_time": "2025-08-31T17:55:40.715Z"
   },
   {
    "duration": 89,
    "start_time": "2025-08-31T17:55:52.259Z"
   },
   {
    "duration": 11,
    "start_time": "2025-08-31T17:55:58.849Z"
   },
   {
    "duration": 14,
    "start_time": "2025-08-31T17:57:06.573Z"
   },
   {
    "duration": 15,
    "start_time": "2025-08-31T17:57:26.612Z"
   },
   {
    "duration": 19,
    "start_time": "2025-08-31T17:57:33.438Z"
   },
   {
    "duration": 10,
    "start_time": "2025-08-31T17:57:40.084Z"
   },
   {
    "duration": 14,
    "start_time": "2025-08-31T17:57:47.777Z"
   },
   {
    "duration": 3,
    "start_time": "2025-08-31T17:58:06.621Z"
   },
   {
    "duration": 21,
    "start_time": "2025-08-31T17:59:26.202Z"
   },
   {
    "duration": 14,
    "start_time": "2025-08-31T17:59:36.825Z"
   },
   {
    "duration": 15,
    "start_time": "2025-08-31T17:59:49.713Z"
   },
   {
    "duration": 22,
    "start_time": "2025-08-31T18:01:16.991Z"
   },
   {
    "duration": 17,
    "start_time": "2025-08-31T18:01:39.985Z"
   },
   {
    "duration": 18,
    "start_time": "2025-08-31T18:02:38.964Z"
   },
   {
    "duration": 21,
    "start_time": "2025-08-31T18:02:43.587Z"
   },
   {
    "duration": 22,
    "start_time": "2025-08-31T18:04:02.113Z"
   },
   {
    "duration": 17,
    "start_time": "2025-08-31T18:07:26.893Z"
   },
   {
    "duration": 14,
    "start_time": "2025-08-31T18:07:52.910Z"
   },
   {
    "duration": 1595,
    "start_time": "2025-08-31T18:10:23.864Z"
   },
   {
    "duration": 16,
    "start_time": "2025-08-31T18:10:35.162Z"
   },
   {
    "duration": 16,
    "start_time": "2025-08-31T18:10:47.433Z"
   },
   {
    "duration": 18,
    "start_time": "2025-08-31T18:11:05.783Z"
   },
   {
    "duration": 18,
    "start_time": "2025-08-31T18:12:07.641Z"
   },
   {
    "duration": 20,
    "start_time": "2025-08-31T18:12:15.675Z"
   },
   {
    "duration": 24,
    "start_time": "2025-08-31T18:12:23.395Z"
   },
   {
    "duration": 18,
    "start_time": "2025-08-31T18:12:32.398Z"
   },
   {
    "duration": 84,
    "start_time": "2025-08-31T18:12:47.312Z"
   },
   {
    "duration": 20,
    "start_time": "2025-08-31T18:12:52.262Z"
   },
   {
    "duration": 26,
    "start_time": "2025-08-31T18:13:01.895Z"
   },
   {
    "duration": 5,
    "start_time": "2025-08-31T18:21:46.675Z"
   },
   {
    "duration": 5,
    "start_time": "2025-08-31T18:22:08.733Z"
   },
   {
    "duration": 16,
    "start_time": "2025-08-31T18:23:35.745Z"
   },
   {
    "duration": 9,
    "start_time": "2025-08-31T18:24:28.220Z"
   },
   {
    "duration": 10,
    "start_time": "2025-08-31T18:25:43.726Z"
   },
   {
    "duration": 9,
    "start_time": "2025-08-31T18:26:24.365Z"
   },
   {
    "duration": 11,
    "start_time": "2025-08-31T18:27:35.787Z"
   },
   {
    "duration": 9,
    "start_time": "2025-08-31T18:27:44.629Z"
   },
   {
    "duration": 10,
    "start_time": "2025-08-31T18:28:21.715Z"
   },
   {
    "duration": 20,
    "start_time": "2025-08-31T18:28:37.333Z"
   },
   {
    "duration": 10,
    "start_time": "2025-08-31T18:29:12.224Z"
   },
   {
    "duration": 19,
    "start_time": "2025-08-31T18:29:14.083Z"
   },
   {
    "duration": 11,
    "start_time": "2025-08-31T18:29:23.053Z"
   },
   {
    "duration": 19,
    "start_time": "2025-08-31T18:29:25.932Z"
   },
   {
    "duration": 11,
    "start_time": "2025-08-31T18:29:44.940Z"
   },
   {
    "duration": 18,
    "start_time": "2025-08-31T18:29:45.473Z"
   },
   {
    "duration": 10,
    "start_time": "2025-08-31T18:29:51.900Z"
   },
   {
    "duration": 16,
    "start_time": "2025-08-31T18:29:52.782Z"
   },
   {
    "duration": 11,
    "start_time": "2025-08-31T18:30:07.912Z"
   },
   {
    "duration": 24,
    "start_time": "2025-08-31T18:30:12.010Z"
   },
   {
    "duration": 11,
    "start_time": "2025-08-31T18:30:30.461Z"
   },
   {
    "duration": 20,
    "start_time": "2025-08-31T18:32:13.068Z"
   },
   {
    "duration": 15,
    "start_time": "2025-08-31T18:32:20.307Z"
   },
   {
    "duration": 4568,
    "start_time": "2025-09-01T05:17:19.940Z"
   },
   {
    "duration": 1496,
    "start_time": "2025-09-01T05:17:24.510Z"
   },
   {
    "duration": 3597,
    "start_time": "2025-09-01T05:17:26.008Z"
   },
   {
    "duration": 29,
    "start_time": "2025-09-01T05:17:29.607Z"
   },
   {
    "duration": 45,
    "start_time": "2025-09-01T05:17:29.639Z"
   },
   {
    "duration": 36,
    "start_time": "2025-09-01T05:17:29.686Z"
   },
   {
    "duration": 39,
    "start_time": "2025-09-01T05:17:29.724Z"
   },
   {
    "duration": 43,
    "start_time": "2025-09-01T05:17:29.764Z"
   },
   {
    "duration": 10,
    "start_time": "2025-09-01T05:17:29.808Z"
   },
   {
    "duration": 43,
    "start_time": "2025-09-01T05:17:29.820Z"
   },
   {
    "duration": 8,
    "start_time": "2025-09-01T05:17:29.865Z"
   },
   {
    "duration": 17,
    "start_time": "2025-09-01T05:17:29.875Z"
   },
   {
    "duration": 9,
    "start_time": "2025-09-01T05:17:29.894Z"
   },
   {
    "duration": 47,
    "start_time": "2025-09-01T05:17:29.906Z"
   },
   {
    "duration": 10,
    "start_time": "2025-09-01T05:17:29.955Z"
   },
   {
    "duration": 186,
    "start_time": "2025-09-01T05:17:29.966Z"
   },
   {
    "duration": 50,
    "start_time": "2025-09-01T05:17:30.155Z"
   },
   {
    "duration": 19,
    "start_time": "2025-09-01T05:17:30.206Z"
   },
   {
    "duration": 117,
    "start_time": "2025-09-01T05:17:30.227Z"
   },
   {
    "duration": 46,
    "start_time": "2025-09-01T05:17:30.346Z"
   },
   {
    "duration": 800,
    "start_time": "2025-09-01T05:17:30.393Z"
   },
   {
    "duration": 13,
    "start_time": "2025-09-01T05:17:31.194Z"
   },
   {
    "duration": 63,
    "start_time": "2025-09-01T05:17:31.208Z"
   },
   {
    "duration": 20,
    "start_time": "2025-09-01T05:17:31.272Z"
   },
   {
    "duration": 17,
    "start_time": "2025-09-01T05:17:31.294Z"
   },
   {
    "duration": 578,
    "start_time": "2025-09-01T05:17:31.312Z"
   },
   {
    "duration": 11,
    "start_time": "2025-09-01T05:17:31.892Z"
   },
   {
    "duration": 108,
    "start_time": "2025-09-01T05:17:31.905Z"
   },
   {
    "duration": 41,
    "start_time": "2025-09-01T05:17:32.015Z"
   },
   {
    "duration": 24,
    "start_time": "2025-09-01T05:17:32.058Z"
   },
   {
    "duration": 62,
    "start_time": "2025-09-01T05:17:32.084Z"
   },
   {
    "duration": 17,
    "start_time": "2025-09-01T05:17:32.148Z"
   },
   {
    "duration": 42,
    "start_time": "2025-09-01T05:17:32.167Z"
   },
   {
    "duration": 120,
    "start_time": "2025-09-01T05:17:32.211Z"
   },
   {
    "duration": 554,
    "start_time": "2025-09-01T05:17:32.333Z"
   },
   {
    "duration": 24,
    "start_time": "2025-09-01T05:17:32.889Z"
   },
   {
    "duration": 26,
    "start_time": "2025-09-01T05:17:32.915Z"
   },
   {
    "duration": 48,
    "start_time": "2025-09-01T05:17:32.944Z"
   },
   {
    "duration": 10,
    "start_time": "2025-09-01T05:17:32.993Z"
   },
   {
    "duration": 131,
    "start_time": "2025-09-01T05:17:33.005Z"
   },
   {
    "duration": 10,
    "start_time": "2025-09-01T05:17:33.144Z"
   },
   {
    "duration": 25,
    "start_time": "2025-09-01T05:17:33.156Z"
   },
   {
    "duration": 53,
    "start_time": "2025-09-01T05:17:33.183Z"
   },
   {
    "duration": 37,
    "start_time": "2025-09-01T05:17:33.239Z"
   },
   {
    "duration": 15,
    "start_time": "2025-09-01T05:17:33.278Z"
   },
   {
    "duration": 4,
    "start_time": "2025-09-01T05:17:33.295Z"
   },
   {
    "duration": 4,
    "start_time": "2025-09-01T05:17:33.301Z"
   },
   {
    "duration": 159,
    "start_time": "2025-09-01T05:17:33.307Z"
   },
   {
    "duration": 51,
    "start_time": "2025-09-01T05:17:33.468Z"
   },
   {
    "duration": 30,
    "start_time": "2025-09-01T05:17:33.535Z"
   },
   {
    "duration": 30,
    "start_time": "2025-09-01T05:17:33.567Z"
   },
   {
    "duration": 75,
    "start_time": "2025-09-01T05:17:33.598Z"
   },
   {
    "duration": 22,
    "start_time": "2025-09-01T05:17:33.675Z"
   },
   {
    "duration": 20,
    "start_time": "2025-09-01T05:17:33.698Z"
   },
   {
    "duration": 7,
    "start_time": "2025-09-01T05:17:33.739Z"
   },
   {
    "duration": 10,
    "start_time": "2025-09-01T05:17:33.749Z"
   },
   {
    "duration": 17,
    "start_time": "2025-09-01T05:17:33.761Z"
   },
   {
    "duration": 132,
    "start_time": "2025-09-01T05:17:33.780Z"
   },
   {
    "duration": 12,
    "start_time": "2025-09-01T05:17:56.376Z"
   },
   {
    "duration": 18,
    "start_time": "2025-09-01T05:17:57.449Z"
   },
   {
    "duration": 20,
    "start_time": "2025-09-01T05:18:21.136Z"
   },
   {
    "duration": 15,
    "start_time": "2025-09-01T05:18:21.964Z"
   },
   {
    "duration": 13,
    "start_time": "2025-09-01T05:18:38.963Z"
   },
   {
    "duration": 11,
    "start_time": "2025-09-01T05:19:55.414Z"
   },
   {
    "duration": 25,
    "start_time": "2025-09-01T05:19:56.532Z"
   },
   {
    "duration": 12,
    "start_time": "2025-09-01T05:20:56.650Z"
   },
   {
    "duration": 6,
    "start_time": "2025-09-01T05:21:00.175Z"
   },
   {
    "duration": 6,
    "start_time": "2025-09-01T05:21:04.646Z"
   },
   {
    "duration": 12,
    "start_time": "2025-09-01T05:21:08.341Z"
   },
   {
    "duration": 5,
    "start_time": "2025-09-01T05:21:14.266Z"
   },
   {
    "duration": 9,
    "start_time": "2025-09-01T05:21:26.141Z"
   },
   {
    "duration": 77,
    "start_time": "2025-09-01T05:27:29.382Z"
   },
   {
    "duration": 3,
    "start_time": "2025-09-01T05:31:10.624Z"
   },
   {
    "duration": 3,
    "start_time": "2025-09-01T05:32:25.025Z"
   },
   {
    "duration": 3,
    "start_time": "2025-09-01T05:34:57.111Z"
   },
   {
    "duration": 5,
    "start_time": "2025-09-01T05:37:50.160Z"
   },
   {
    "duration": 7,
    "start_time": "2025-09-01T05:38:31.862Z"
   },
   {
    "duration": 12,
    "start_time": "2025-09-01T05:38:39.071Z"
   },
   {
    "duration": 5,
    "start_time": "2025-09-01T05:39:09.904Z"
   },
   {
    "duration": 7,
    "start_time": "2025-09-01T05:39:15.152Z"
   },
   {
    "duration": 5,
    "start_time": "2025-09-01T05:39:28.286Z"
   },
   {
    "duration": 12,
    "start_time": "2025-09-01T05:40:44.769Z"
   },
   {
    "duration": 17,
    "start_time": "2025-09-01T05:41:04.357Z"
   },
   {
    "duration": 13,
    "start_time": "2025-09-01T05:41:11.901Z"
   },
   {
    "duration": 12,
    "start_time": "2025-09-01T05:43:00.473Z"
   },
   {
    "duration": 2,
    "start_time": "2025-09-01T05:43:04.208Z"
   },
   {
    "duration": 1326,
    "start_time": "2025-09-01T05:43:04.659Z"
   },
   {
    "duration": 15,
    "start_time": "2025-09-01T05:43:41.963Z"
   },
   {
    "duration": 20,
    "start_time": "2025-09-01T05:43:58.965Z"
   },
   {
    "duration": 16,
    "start_time": "2025-09-01T05:47:32.502Z"
   },
   {
    "duration": 1093,
    "start_time": "2025-09-01T05:47:58.662Z"
   },
   {
    "duration": 7,
    "start_time": "2025-09-01T05:50:19.961Z"
   },
   {
    "duration": 8,
    "start_time": "2025-09-01T05:50:28.996Z"
   },
   {
    "duration": 11,
    "start_time": "2025-09-01T05:50:36.078Z"
   },
   {
    "duration": 15,
    "start_time": "2025-09-01T05:50:51.391Z"
   },
   {
    "duration": 16,
    "start_time": "2025-09-01T05:51:13.752Z"
   },
   {
    "duration": 92,
    "start_time": "2025-09-01T05:52:03.287Z"
   },
   {
    "duration": 77,
    "start_time": "2025-09-01T05:52:10.169Z"
   },
   {
    "duration": 12,
    "start_time": "2025-09-01T05:52:29.144Z"
   },
   {
    "duration": 1083,
    "start_time": "2025-09-01T05:52:43.057Z"
   },
   {
    "duration": 1029,
    "start_time": "2025-09-01T05:53:24.332Z"
   },
   {
    "duration": 80,
    "start_time": "2025-09-01T05:53:51.755Z"
   },
   {
    "duration": 81,
    "start_time": "2025-09-01T05:53:54.004Z"
   },
   {
    "duration": 80,
    "start_time": "2025-09-01T05:54:04.515Z"
   },
   {
    "duration": 76,
    "start_time": "2025-09-01T05:54:27.220Z"
   },
   {
    "duration": 1055,
    "start_time": "2025-09-01T05:54:42.049Z"
   },
   {
    "duration": 12,
    "start_time": "2025-09-01T05:54:45.846Z"
   },
   {
    "duration": 22,
    "start_time": "2025-09-01T05:54:52.274Z"
   },
   {
    "duration": 13,
    "start_time": "2025-09-01T05:55:02.878Z"
   },
   {
    "duration": 1114,
    "start_time": "2025-09-01T05:55:21.231Z"
   },
   {
    "duration": 21,
    "start_time": "2025-09-01T05:55:35.676Z"
   },
   {
    "duration": 1446,
    "start_time": "2025-09-01T05:55:45.695Z"
   },
   {
    "duration": 12,
    "start_time": "2025-09-01T05:57:48.850Z"
   },
   {
    "duration": 8,
    "start_time": "2025-09-01T05:59:18.614Z"
   },
   {
    "duration": 1090,
    "start_time": "2025-09-01T06:00:13.669Z"
   },
   {
    "duration": 8,
    "start_time": "2025-09-01T06:01:07.720Z"
   },
   {
    "duration": 8,
    "start_time": "2025-09-01T06:02:35.578Z"
   },
   {
    "duration": 11,
    "start_time": "2025-09-01T06:03:28.646Z"
   },
   {
    "duration": 11,
    "start_time": "2025-09-01T06:03:34.056Z"
   },
   {
    "duration": 101,
    "start_time": "2025-09-01T06:03:38.349Z"
   },
   {
    "duration": 10,
    "start_time": "2025-09-01T06:03:41.475Z"
   },
   {
    "duration": 3,
    "start_time": "2025-09-01T06:04:04.528Z"
   },
   {
    "duration": 99,
    "start_time": "2025-09-01T06:04:22.342Z"
   },
   {
    "duration": 348,
    "start_time": "2025-09-01T06:04:25.976Z"
   },
   {
    "duration": 407,
    "start_time": "2025-09-01T06:05:04.228Z"
   },
   {
    "duration": 13,
    "start_time": "2025-09-01T06:05:30.807Z"
   },
   {
    "duration": 11,
    "start_time": "2025-09-01T06:06:01.795Z"
   },
   {
    "duration": 16,
    "start_time": "2025-09-01T06:06:08.847Z"
   },
   {
    "duration": 14,
    "start_time": "2025-09-01T06:06:28.163Z"
   },
   {
    "duration": 3,
    "start_time": "2025-09-01T06:07:24.416Z"
   },
   {
    "duration": 19,
    "start_time": "2025-09-01T06:07:25.942Z"
   },
   {
    "duration": 5,
    "start_time": "2025-09-01T06:07:41.452Z"
   },
   {
    "duration": 14,
    "start_time": "2025-09-01T06:07:43.106Z"
   },
   {
    "duration": 15,
    "start_time": "2025-09-01T06:10:46.834Z"
   },
   {
    "duration": 14,
    "start_time": "2025-09-01T06:10:48.285Z"
   },
   {
    "duration": 3,
    "start_time": "2025-09-01T06:12:13.787Z"
   },
   {
    "duration": 15,
    "start_time": "2025-09-01T06:12:14.226Z"
   },
   {
    "duration": 12,
    "start_time": "2025-09-01T06:12:14.799Z"
   },
   {
    "duration": 12,
    "start_time": "2025-09-01T06:26:57.168Z"
   },
   {
    "duration": 13,
    "start_time": "2025-09-01T06:27:05.473Z"
   },
   {
    "duration": 13,
    "start_time": "2025-09-01T06:27:09.276Z"
   }
  ],
  "colab": {
   "provenance": [],
   "toc_visible": true
  },
  "kernelspec": {
   "display_name": "Python 3 (ipykernel)",
   "language": "python",
   "name": "python3"
  },
  "language_info": {
   "codemirror_mode": {
    "name": "ipython",
    "version": 3
   },
   "file_extension": ".py",
   "mimetype": "text/x-python",
   "name": "python",
   "nbconvert_exporter": "python",
   "pygments_lexer": "ipython3",
   "version": "3.9.5"
  },
  "toc": {
   "base_numbering": 1,
   "nav_menu": {},
   "number_sections": true,
   "sideBar": true,
   "skip_h1_title": true,
   "title_cell": "Table of Contents",
   "title_sidebar": "Contents",
   "toc_cell": false,
   "toc_position": {},
   "toc_section_display": true,
   "toc_window_display": false
  }
 },
 "nbformat": 4,
 "nbformat_minor": 1
}
